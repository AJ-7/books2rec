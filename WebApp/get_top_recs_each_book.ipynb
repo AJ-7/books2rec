{
 "cells": [
  {
   "cell_type": "code",
   "execution_count": null,
   "metadata": {
    "collapsed": true
   },
   "outputs": [],
   "source": [
    "import pandas as pd\n",
    "import numpy as np\n",
    "import csv\n",
    "import pickle"
   ]
  },
  {
   "cell_type": "code",
   "execution_count": null,
   "metadata": {
    "collapsed": true
   },
   "outputs": [],
   "source": [
    "def get_recommendations(books, bookid_to_title, title_to_bookid, title, similarities, weights, N):   \n",
    "    # Get the index of the book that matches the title\n",
    "    idx = int(title_to_bookid[title])\n",
    "    idx -= 1\n",
    "    \n",
    "    # Get the total number of books\n",
    "    num_books = len(similarities[0])\n",
    "\n",
    "    # Get the pairwsie similarity scores of all books with that book\n",
    "    similarity_scores = []\n",
    "    for similarity in similarities:\n",
    "        similarity_scores.append(list(enumerate(similarity[idx])))\n",
    "    \n",
    "    # Sum and average the similarity scores of the three feature sets to get true similarity\n",
    "    sim_scores = []\n",
    "    for i in range(num_books):  \n",
    "        book_id = similarity_scores[0][i][0]\n",
    "        \n",
    "        score = 0\n",
    "        for j in range(len(weights)):\n",
    "            score += (similarity_scores[j][i][1] * weights[j])\n",
    "            \n",
    "        sim_scores.append((book_id, score))\n",
    "        \n",
    "    # Sort the books based on the highest similarity scores first\n",
    "    sim_scores = sorted(sim_scores, key=lambda x: x[1], reverse=True)\n",
    "\n",
    "    # Get the scores of the N most similar books\n",
    "    sim_scores = sim_scores[1:N+1]\n",
    "\n",
    "    # Get the book indices\n",
    "    book_indices = [i[0] for i in sim_scores]\n",
    "\n",
    "    # Return the top most similar books\n",
    "    top_books = []\n",
    "    for i in range(len(sim_scores)):\n",
    "        s = sim_scores[i]\n",
    "        book_id = s[0]\n",
    "        top_books.append(book_id + 1) #actual book_id\n",
    "\n",
    "    return top_books\n",
    "    "
   ]
  },
  {
   "cell_type": "code",
   "execution_count": 34,
   "metadata": {
    "collapsed": true
   },
   "outputs": [],
   "source": [
    "# Set this to where you save and load all data\n",
    "data_path = '../../goodbooks-10k/'"
   ]
  },
  {
   "cell_type": "code",
   "execution_count": null,
   "metadata": {
    "collapsed": true
   },
   "outputs": [],
   "source": [
    "titles = []\n",
    "books = pd.read_pickle('static/data/books_dataframe')\n",
    "for index, row in books.iterrows():\n",
    "    titles.append(row['title'])\n",
    "titles.sort()\n",
    "bookid_to_title = {}\n",
    "title_to_bookid = {}\n",
    "filename = 'static/data/books.csv'\n",
    "with open(filename, \"r\", encoding='utf8') as f:\n",
    "    reader = csv.reader(f, delimiter=\",\")\n",
    "    for i, line in enumerate(reader):\n",
    "        bookid_to_title[line[0]] = line[10]\n",
    "        title_to_bookid[line[10]] = line[0]\n",
    "cosine_sim_item_matrix = np.load('../.tmp/cosine_sim_item_matrix.npy')\n",
    "cosine_sim_feature_matrix = np.load('../.tmp/cosine_sim_feature_matrix.npy')"
   ]
  },
  {
   "cell_type": "code",
   "execution_count": null,
   "metadata": {
    "scrolled": true
   },
   "outputs": [],
   "source": [
    "top_recs_each_book_item_matrix = {}\n",
    "titles_computed = 0\n",
    "for title in titles:\n",
    "    try:\n",
    "        top_books = get_recommendations(books, bookid_to_title, title_to_bookid, title, [cosine_sim_item_matrix], [1], 99)\n",
    "        top_recs_each_book_item_matrix[int(title_to_bookid[title])] = top_books\n",
    "        titles_computed += 1\n",
    "    except:\n",
    "        print(titles_computed)\n",
    "        print(\"can't get recs for: %s\" % title)"
   ]
  },
  {
   "cell_type": "code",
   "execution_count": null,
   "metadata": {
    "collapsed": true
   },
   "outputs": [],
   "source": [
    "f = open('static/data/top_recs_each_book_item_matrix.pkl',\"wb\")\n",
    "pickle.dump(top_recs_each_book_item_matrix,f)\n",
    "f.close()"
   ]
  },
  {
   "cell_type": "code",
   "execution_count": null,
   "metadata": {},
   "outputs": [],
   "source": [
    "f = open('static/data/top_recs_each_book_item_matrix.pkl',\"rb\")\n",
    "top_recs_each_book_item_matrix = pickle.load(f)\n",
    "f.close()"
   ]
  },
  {
   "cell_type": "code",
   "execution_count": null,
   "metadata": {},
   "outputs": [],
   "source": [
    "'''\n",
    "\n",
    "\n",
    "'''"
   ]
  },
  {
   "cell_type": "code",
   "execution_count": 33,
   "metadata": {},
   "outputs": [
    {
     "name": "stdout",
     "output_type": "stream",
     "text": [
      "669\n",
      "can't get recs for: Around the World in Eighty Days (Extraordinary Voyages, #11)\n",
      "903\n",
      "can't get recs for: Before They Are Hanged (The First Law, #2)\n",
      "1341\n",
      "can't get recs for: Catch-22 (Catch-22, #1)\n",
      "4153\n",
      "can't get recs for: Me & Earl & the Dying Girl\n",
      "4481\n",
      "can't get recs for: Neuromancer (Sprawl, #1)\n",
      "5618\n",
      "can't get recs for: Shadow and Bone (Grisha, #1)\n",
      "6019\n",
      "can't get recs for: Streams in the Desert: 366 Daily Devotional Readings\n",
      "7746\n",
      "can't get recs for: The Lost Continent: Travels in Small-Town America\n",
      "8747\n",
      "can't get recs for: The Three Musketeers (The D'Artagnan Romances, #1)\n",
      "9007\n",
      "can't get recs for: The Wolf of Wall Street (The Wolf of Wall Street, #1)\n",
      "9067\n",
      "can't get recs for: There Was an Old Lady Who Swallowed a Fly (Classic Books) There Was an Old Lady Who Swallowed a Fly\n"
     ]
    }
   ],
   "source": [
    "top_recs_each_book_feature_matrix = {}\n",
    "titles_computed = 0\n",
    "for title in titles:\n",
    "    try:\n",
    "        top_books = get_recommendations(books, bookid_to_title, title_to_bookid, title, [cosine_sim_feature_matrix], [1], 99)\n",
    "        top_recs_each_book_feature_matrix[int(title_to_bookid[title])] = top_books\n",
    "        titles_computed += 1\n",
    "    except:\n",
    "        print(titles_computed)\n",
    "        print(\"can't get recs for: %s\" % title)"
   ]
  },
  {
   "cell_type": "code",
   "execution_count": 35,
   "metadata": {
    "collapsed": true
   },
   "outputs": [],
   "source": [
    "f = open('static/data/top_recs_each_book_feature_matrix.pkl',\"wb\")\n",
    "pickle.dump(top_recs_each_book_feature_matrix,f)\n",
    "f.close()"
   ]
  },
  {
   "cell_type": "code",
   "execution_count": null,
   "metadata": {
    "collapsed": true
   },
   "outputs": [],
   "source": []
  }
 ],
 "metadata": {
  "kernelspec": {
   "display_name": "Python 3",
   "language": "python",
   "name": "python3"
  },
  "language_info": {
   "codemirror_mode": {
    "name": "ipython",
    "version": 3
   },
   "file_extension": ".py",
   "mimetype": "text/x-python",
   "name": "python",
   "nbconvert_exporter": "python",
   "pygments_lexer": "ipython3",
   "version": "3.6.3"
  }
 },
 "nbformat": 4,
 "nbformat_minor": 2
}
