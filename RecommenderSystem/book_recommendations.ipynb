{
 "cells": [
  {
   "cell_type": "code",
   "execution_count": 13,
   "metadata": {
    "collapsed": true
   },
   "outputs": [],
   "source": [
    "import os\n",
    "import sys\n",
    "import numpy as np\n",
    "import pandas as pd\n",
    "import scipy\n",
    "from sklearn.feature_extraction.text import TfidfVectorizer, CountVectorizer\n",
    "from sklearn.metrics.pairwise import linear_kernel, cosine_similarity\n",
    "from sklearn.decomposition import TruncatedSVD\n",
    "\n",
    "# Custom libraries\n",
    "sys.path.append('../Util')\n",
    "from loader import get_books, get_book_dataframe, get_book_features"
   ]
  },
  {
   "cell_type": "code",
   "execution_count": 14,
   "metadata": {
    "collapsed": true
   },
   "outputs": [],
   "source": [
    "# Set this to where you save and load all data - RELATIVE TO INSIDE UTIL FOLDER\n",
    "data_path = '../../goodbooks-10k/'"
   ]
  },
  {
   "cell_type": "code",
   "execution_count": 15,
   "metadata": {
    "collapsed": true
   },
   "outputs": [],
   "source": [
    "# title of book to get recs for\n",
    "title = 'The Fellowship of the Ring (The Lord of the Rings, #1)'"
   ]
  },
  {
   "cell_type": "code",
   "execution_count": 16,
   "metadata": {
    "collapsed": true
   },
   "outputs": [],
   "source": [
    "# Function that takes in book feature similarity matrices as input and outputs most similar book\n",
    "def get_recommendations(df, indices, title, similarities, weights):\n",
    "    \n",
    "    # Get the index of the book that matches the title\n",
    "    idx = indices[title]\n",
    "    idx -= 1\n",
    "    \n",
    "    # Get the total number of books\n",
    "    num_books = len(similarities[0])\n",
    "\n",
    "    # Get the pairwsie similarity scores of all books with that book\n",
    "    similarity_scores = []\n",
    "    for similarity in similarities:\n",
    "        similarity_scores.append(list(enumerate(similarity[idx])))\n",
    "    \n",
    "    # Sum and average the similarity scores of the three feature sets to get true similarity\n",
    "    sim_scores = []\n",
    "    for i in range(num_books):  \n",
    "        book_id = similarity_scores[0][i][0]\n",
    "        \n",
    "        score = 0\n",
    "        for j in range(len(weights)):\n",
    "            score += (similarity_scores[j][i][1] * weights[j])\n",
    "            \n",
    "        sim_scores.append((book_id, score))\n",
    "        \n",
    "    # Sort the books based on the highest similarity scores first\n",
    "    sim_scores = sorted(sim_scores, key=lambda x: x[1], reverse=True)\n",
    "\n",
    "    # Get the scores of the N most similar books\n",
    "    N = 20\n",
    "    sim_scores = sim_scores[0:N]\n",
    "\n",
    "    # Get the book indices\n",
    "    book_indices = [i[0] for i in sim_scores]\n",
    "\n",
    "    # Return the top 10 most similar books\n",
    "    return df['title'].iloc[book_indices]"
   ]
  },
  {
   "cell_type": "code",
   "execution_count": 17,
   "metadata": {},
   "outputs": [
    {
     "name": "stdout",
     "output_type": "stream",
     "text": [
      "found books_dataframe in file...\n"
     ]
    }
   ],
   "source": [
    "# Get dataframe from books\n",
    "books = get_book_dataframe(data_path)"
   ]
  },
  {
   "cell_type": "code",
   "execution_count": 18,
   "metadata": {
    "collapsed": true
   },
   "outputs": [],
   "source": [
    "#Construct a reverse map of indices and book titles\n",
    "indices = pd.Series(books.index, index=books['title']).drop_duplicates()"
   ]
  },
  {
   "cell_type": "code",
   "execution_count": 19,
   "metadata": {},
   "outputs": [
    {
     "name": "stdout",
     "output_type": "stream",
     "text": [
      "printing feature_matrix to file\n"
     ]
    },
    {
     "data": {
      "text/plain": [
       "(10000, 82203)"
      ]
     },
     "execution_count": 19,
     "metadata": {},
     "output_type": "execute_result"
    }
   ],
   "source": [
    "# produce feature matrix\n",
    "feature_matrix = get_book_features(books)\n",
    "feature_matrix.shape"
   ]
  },
  {
   "cell_type": "code",
   "execution_count": 20,
   "metadata": {},
   "outputs": [],
   "source": [
    "# Compute the cosine similarity matrix for feature matrix\n",
    "cosine_sim_features = cosine_similarity(feature_matrix)"
   ]
  },
  {
   "cell_type": "code",
   "execution_count": 21,
   "metadata": {},
   "outputs": [
    {
     "data": {
      "text/plain": [
       "id\n",
       "19      The Fellowship of the Ring (The Lord of the Ri...\n",
       "189     The Lord of the Rings (The Lord of the Rings, ...\n",
       "155            The Two Towers (The Lord of the Rings, #2)\n",
       "8038    The Belgariad Boxed Set: Pawn of Prophecy / Qu...\n",
       "5735    Chronicles of the Black Company (The Chronicle...\n",
       "1812              Magician: Master (The Riftwar Saga, #2)\n",
       "9343    The Wheel of Time: Boxed Set  (Wheel of Time, ...\n",
       "161     The Return of the King (The Lord of the Rings,...\n",
       "6982              Another Fine Myth (Myth Adventures, #1)\n",
       "7                                              The Hobbit\n",
       "3636        Eragon, Eldest & Brisingr (Inheritance, #1-3)\n",
       "5957            The King's Buccaneer (Krondor's Sons, #2)\n",
       "9327    Artemis Fowl Boxed Set, Bks 1-5 (Artemis Fowl,...\n",
       "6536    Shards of a Broken Crown (The Serpentwar Saga,...\n",
       "9643                    The Gate Thief (Mither Mages, #2)\n",
       "1629              The Tombs of Atuan (Earthsea Cycle, #2)\n",
       "6838      Brilliance of the Moon (Tales of the Otori, #3)\n",
       "7274                  Fire Sea (The Death Gate Cycle, #3)\n",
       "3697                     The Heroes (First Law World, #5)\n",
       "3360    Lord Foul's Bane (The Chronicles of Thomas Cov...\n",
       "Name: title, dtype: object"
      ]
     },
     "execution_count": 21,
     "metadata": {},
     "output_type": "execute_result"
    }
   ],
   "source": [
    "# Get recs using the combined feature matrix\n",
    "similarities_features = [cosine_sim_features]\n",
    "weights_features = [1]\n",
    "recs_features = get_recommendations(books, indices, title, similarities_features, weights_features)\n",
    "recs_features"
   ]
  },
  {
   "cell_type": "code",
   "execution_count": null,
   "metadata": {
    "collapsed": true
   },
   "outputs": [],
   "source": [
    "'''\n",
    "\n",
    "Load in Item Matrix\n",
    "\n",
    "'''"
   ]
  },
  {
   "cell_type": "code",
   "execution_count": 22,
   "metadata": {},
   "outputs": [
    {
     "data": {
      "text/plain": [
       "(10000, 1300)"
      ]
     },
     "execution_count": 22,
     "metadata": {},
     "output_type": "execute_result"
    }
   ],
   "source": [
    "# Load in item_matrix (concepts and features) and test recs\n",
    "filename = '../.tmp/item_matrix.npy'\n",
    "item_matrix = np.load(filename)\n",
    "item_matrix.shape"
   ]
  },
  {
   "cell_type": "code",
   "execution_count": 23,
   "metadata": {
    "collapsed": true
   },
   "outputs": [],
   "source": [
    "# Compute the cosine similarity matrix for the item matrix\n",
    "cosine_sim_item_matrix = cosine_similarity(item_matrix)"
   ]
  },
  {
   "cell_type": "code",
   "execution_count": 24,
   "metadata": {},
   "outputs": [
    {
     "data": {
      "text/plain": [
       "id\n",
       "19      The Fellowship of the Ring (The Lord of the Ri...\n",
       "7                                              The Hobbit\n",
       "189     The Lord of the Rings (The Lord of the Rings, ...\n",
       "155            The Two Towers (The Lord of the Rings, #2)\n",
       "161     The Return of the King (The Lord of the Rings,...\n",
       "7325      Rhapsody: Child of Blood (Symphony of Ages, #1)\n",
       "3798        Heir of Novron (The Riyria Revelations, #5-6)\n",
       "917                  The Blade Itself (The First Law, #1)\n",
       "8893                  The Other Wind (Earthsea Cycle, #6)\n",
       "9711       The Wandering Fire (The Fionavar Tapestry, #2)\n",
       "2006      The Republic of Thieves (Gentleman Bastard, #3)\n",
       "9408         The Darkest Road (The Fionavar Tapestry, #3)\n",
       "307     The Wise Man's Fear (The Kingkiller Chronicle,...\n",
       "9668                The Broken Kingdoms (Inheritance, #2)\n",
       "5735    Chronicles of the Black Company (The Chronicle...\n",
       "746      The Lies of Locke Lamora (Gentleman Bastard, #1)\n",
       "1254     Red Seas Under Red Skies (Gentleman Bastard, #2)\n",
       "6678    The Wheel of Time: Boxed Set #1 (Wheel of Time...\n",
       "1591              The Farthest Shore (Earthsea Cycle, #3)\n",
       "4472    The Emperor's Blades (Chronicle of the Unhewn ...\n",
       "Name: title, dtype: object"
      ]
     },
     "execution_count": 24,
     "metadata": {},
     "output_type": "execute_result"
    }
   ],
   "source": [
    "# Get recs using the item matrix (concepts and features)\n",
    "similarities_item_matrix = [cosine_sim_item_matrix]\n",
    "weights_item_matrix = [1]\n",
    "recs_item_matrix = get_recommendations(books, indices, title, similarities_item_matrix, weights_item_matrix)\n",
    "recs_item_matrix"
   ]
  },
  {
   "cell_type": "code",
   "execution_count": 18,
   "metadata": {},
   "outputs": [
    {
     "data": {
      "text/plain": [
       "(10000, 5)"
      ]
     },
     "execution_count": 18,
     "metadata": {},
     "output_type": "execute_result"
    }
   ],
   "source": [
    "# Test just the matrix derived from a single matrix\n",
    "item_matrix_test = item_matrix[:,5:10]\n",
    "item_matrix_test.shape"
   ]
  },
  {
   "cell_type": "code",
   "execution_count": 19,
   "metadata": {
    "collapsed": true
   },
   "outputs": [],
   "source": [
    "# Compute the cosine similarity matrix for the collab filtering matrix\n",
    "cosine_sim_test = cosine_similarity(item_matrix_test)"
   ]
  },
  {
   "cell_type": "code",
   "execution_count": 20,
   "metadata": {},
   "outputs": [
    {
     "data": {
      "text/plain": [
       "id\n",
       "19      The Fellowship of the Ring (The Lord of the Ri...\n",
       "161     The Return of the King (The Lord of the Rings,...\n",
       "155            The Two Towers (The Lord of the Rings, #2)\n",
       "189     The Lord of the Rings (The Lord of the Rings, ...\n",
       "3521                             Neil Gaiman's Neverwhere\n",
       "5344               A Game of Thrones: Comic Book, Issue 1\n",
       "466                             The Hobbit: Graphic Novel\n",
       "6738    The Hedge Knight (The Hedge Knight Graphic Nov...\n",
       "4976         Unfinished Tales of Númenor and Middle-Earth\n",
       "2309                                The Children of Húrin\n",
       "7                                              The Hobbit\n",
       "8376                 Pani Jeziora (Saga o Wiedźminie, #7)\n",
       "7470    The Dresden Files:  Storm Front, Volume 1-  Th...\n",
       "2149    A Song of Ice and Fire (A Song of Ice and Fire...\n",
       "9578                        Berserk, Vol. 1 (Berserk, #1)\n",
       "2239    Dragons of Spring Dawning (Dragonlance: Chroni...\n",
       "2527    A Song of Ice and Fire (A Song of Ice and Fire...\n",
       "3500    Streams of Silver (Forgotten Realms: Icewind D...\n",
       "9975       The King Beyond the Gate (The Drenai Saga, #2)\n",
       "1261                               The Eyes of the Dragon\n",
       "Name: title, dtype: object"
      ]
     },
     "execution_count": 20,
     "metadata": {},
     "output_type": "execute_result"
    }
   ],
   "source": [
    "similarities_test = [cosine_sim_test]\n",
    "weights_test = [1]\n",
    "recs_test = get_recommendations(books, indices, title, similarities_test, weights_test)\n",
    "recs_test"
   ]
  },
  {
   "cell_type": "code",
   "execution_count": null,
   "metadata": {
    "collapsed": true
   },
   "outputs": [],
   "source": []
  }
 ],
 "metadata": {
  "kernelspec": {
   "display_name": "Python 3",
   "language": "python",
   "name": "python3"
  },
  "language_info": {
   "codemirror_mode": {
    "name": "ipython",
    "version": 3
   },
   "file_extension": ".py",
   "mimetype": "text/x-python",
   "name": "python",
   "nbconvert_exporter": "python",
   "pygments_lexer": "ipython3",
   "version": "3.6.3"
  }
 },
 "nbformat": 4,
 "nbformat_minor": 2
}
