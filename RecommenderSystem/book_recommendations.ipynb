{
 "cells": [
  {
   "cell_type": "code",
   "execution_count": 1,
   "metadata": {
    "collapsed": true
   },
   "outputs": [],
   "source": [
    "import os\n",
    "import sys\n",
    "import numpy as np\n",
    "import pandas as pd\n",
    "import scipy\n",
    "from sklearn.feature_extraction.text import TfidfVectorizer, CountVectorizer\n",
    "from sklearn.metrics.pairwise import linear_kernel, cosine_similarity\n",
    "from sklearn.decomposition import TruncatedSVD\n",
    "\n",
    "# Custom libraries\n",
    "sys.path.append('../Util')\n",
    "from loader import get_books, get_book_dataframe, get_book_features"
   ]
  },
  {
   "cell_type": "code",
   "execution_count": 2,
   "metadata": {
    "collapsed": true
   },
   "outputs": [],
   "source": [
    "# Set this to where you save and load all data - RELATIVE TO INSIDE UTIL FOLDER\n",
    "data_path = '../../goodbooks-10k/'"
   ]
  },
  {
   "cell_type": "code",
   "execution_count": 3,
   "metadata": {
    "collapsed": true
   },
   "outputs": [],
   "source": [
    "# title of book to get recs for\n",
    "title = 'The Fellowship of the Ring (The Lord of the Rings, #1)'"
   ]
  },
  {
   "cell_type": "code",
   "execution_count": 4,
   "metadata": {
    "collapsed": true
   },
   "outputs": [],
   "source": [
    "# Function that takes in book feature similarity matrices as input and outputs most similar book\n",
    "def get_recommendations(df, indices, title, similarities, weights):\n",
    "    \n",
    "    # Get the index of the book that matches the title\n",
    "    idx = indices[title]\n",
    "    idx -= 1\n",
    "    \n",
    "    # Get the total number of books\n",
    "    num_books = len(similarities[0])\n",
    "\n",
    "    # Get the pairwsie similarity scores of all books with that book\n",
    "    similarity_scores = []\n",
    "    for similarity in similarities:\n",
    "        similarity_scores.append(list(enumerate(similarity[idx])))\n",
    "    \n",
    "    # Sum and average the similarity scores of the three feature sets to get true similarity\n",
    "    sim_scores = []\n",
    "    for i in range(num_books):  \n",
    "        book_id = similarity_scores[0][i][0]\n",
    "        \n",
    "        score = 0\n",
    "        for j in range(len(weights)):\n",
    "            score += (similarity_scores[j][i][1] * weights[j])\n",
    "            \n",
    "        sim_scores.append((book_id, score))\n",
    "        \n",
    "    # Sort the books based on the highest similarity scores first\n",
    "    sim_scores = sorted(sim_scores, key=lambda x: x[1], reverse=True)\n",
    "\n",
    "    # Get the scores of the N most similar books\n",
    "    N = 20\n",
    "    sim_scores = sim_scores[0:N]\n",
    "\n",
    "    # Get the book indices\n",
    "    book_indices = [i[0] for i in sim_scores]\n",
    "\n",
    "    # Return the top 10 most similar books\n",
    "    return df['title'].iloc[book_indices]"
   ]
  },
  {
   "cell_type": "code",
   "execution_count": 21,
   "metadata": {},
   "outputs": [
    {
     "name": "stdout",
     "output_type": "stream",
     "text": [
      "found books_dataframe in file...\n"
     ]
    }
   ],
   "source": [
    "# Get dataframe from books\n",
    "books = get_book_dataframe(data_path)"
   ]
  },
  {
   "cell_type": "code",
   "execution_count": 22,
   "metadata": {
    "collapsed": true
   },
   "outputs": [],
   "source": [
    "#Construct a reverse map of indices and book titles\n",
    "indices = pd.Series(books.index, index=books['title']).drop_duplicates()"
   ]
  },
  {
   "cell_type": "code",
   "execution_count": 23,
   "metadata": {},
   "outputs": [
    {
     "name": "stdout",
     "output_type": "stream",
     "text": [
      "feature_matrix exists in file...\n"
     ]
    },
    {
     "data": {
      "text/plain": [
       "(10000, 82203)"
      ]
     },
     "execution_count": 23,
     "metadata": {},
     "output_type": "execute_result"
    }
   ],
   "source": [
    "# produce feature matrix\n",
    "feature_matrix = get_book_features(books)\n",
    "feature_matrix.shape"
   ]
  },
  {
   "cell_type": "code",
   "execution_count": 24,
   "metadata": {},
   "outputs": [
    {
     "ename": "KeyboardInterrupt",
     "evalue": "",
     "output_type": "error",
     "traceback": [
      "\u001b[1;31m---------------------------------------------------------------------------\u001b[0m",
      "\u001b[1;31mKeyboardInterrupt\u001b[0m                         Traceback (most recent call last)",
      "\u001b[1;32m<ipython-input-24-b89d23e03881>\u001b[0m in \u001b[0;36m<module>\u001b[1;34m()\u001b[0m\n\u001b[0;32m      1\u001b[0m \u001b[1;31m# Compute the cosine similarity matrix for feature matrix\u001b[0m\u001b[1;33m\u001b[0m\u001b[1;33m\u001b[0m\u001b[0m\n\u001b[1;32m----> 2\u001b[1;33m \u001b[0mcosine_sim_features\u001b[0m \u001b[1;33m=\u001b[0m \u001b[0mcosine_similarity\u001b[0m\u001b[1;33m(\u001b[0m\u001b[0mfeature_matrix\u001b[0m\u001b[1;33m)\u001b[0m\u001b[1;33m\u001b[0m\u001b[0m\n\u001b[0m",
      "\u001b[1;32m~\\Anaconda3\\lib\\site-packages\\sklearn\\metrics\\pairwise.py\u001b[0m in \u001b[0;36mcosine_similarity\u001b[1;34m(X, Y, dense_output)\u001b[0m\n\u001b[0;32m    923\u001b[0m         \u001b[0mY_normalized\u001b[0m \u001b[1;33m=\u001b[0m \u001b[0mnormalize\u001b[0m\u001b[1;33m(\u001b[0m\u001b[0mY\u001b[0m\u001b[1;33m,\u001b[0m \u001b[0mcopy\u001b[0m\u001b[1;33m=\u001b[0m\u001b[1;32mTrue\u001b[0m\u001b[1;33m)\u001b[0m\u001b[1;33m\u001b[0m\u001b[0m\n\u001b[0;32m    924\u001b[0m \u001b[1;33m\u001b[0m\u001b[0m\n\u001b[1;32m--> 925\u001b[1;33m     \u001b[0mK\u001b[0m \u001b[1;33m=\u001b[0m \u001b[0msafe_sparse_dot\u001b[0m\u001b[1;33m(\u001b[0m\u001b[0mX_normalized\u001b[0m\u001b[1;33m,\u001b[0m \u001b[0mY_normalized\u001b[0m\u001b[1;33m.\u001b[0m\u001b[0mT\u001b[0m\u001b[1;33m,\u001b[0m \u001b[0mdense_output\u001b[0m\u001b[1;33m=\u001b[0m\u001b[0mdense_output\u001b[0m\u001b[1;33m)\u001b[0m\u001b[1;33m\u001b[0m\u001b[0m\n\u001b[0m\u001b[0;32m    926\u001b[0m \u001b[1;33m\u001b[0m\u001b[0m\n\u001b[0;32m    927\u001b[0m     \u001b[1;32mreturn\u001b[0m \u001b[0mK\u001b[0m\u001b[1;33m\u001b[0m\u001b[0m\n",
      "\u001b[1;32m~\\Anaconda3\\lib\\site-packages\\sklearn\\utils\\extmath.py\u001b[0m in \u001b[0;36msafe_sparse_dot\u001b[1;34m(a, b, dense_output)\u001b[0m\n\u001b[0;32m    135\u001b[0m         \u001b[0mret\u001b[0m \u001b[1;33m=\u001b[0m \u001b[0ma\u001b[0m \u001b[1;33m*\u001b[0m \u001b[0mb\u001b[0m\u001b[1;33m\u001b[0m\u001b[0m\n\u001b[0;32m    136\u001b[0m         \u001b[1;32mif\u001b[0m \u001b[0mdense_output\u001b[0m \u001b[1;32mand\u001b[0m \u001b[0mhasattr\u001b[0m\u001b[1;33m(\u001b[0m\u001b[0mret\u001b[0m\u001b[1;33m,\u001b[0m \u001b[1;34m\"toarray\"\u001b[0m\u001b[1;33m)\u001b[0m\u001b[1;33m:\u001b[0m\u001b[1;33m\u001b[0m\u001b[0m\n\u001b[1;32m--> 137\u001b[1;33m             \u001b[0mret\u001b[0m \u001b[1;33m=\u001b[0m \u001b[0mret\u001b[0m\u001b[1;33m.\u001b[0m\u001b[0mtoarray\u001b[0m\u001b[1;33m(\u001b[0m\u001b[1;33m)\u001b[0m\u001b[1;33m\u001b[0m\u001b[0m\n\u001b[0m\u001b[0;32m    138\u001b[0m         \u001b[1;32mreturn\u001b[0m \u001b[0mret\u001b[0m\u001b[1;33m\u001b[0m\u001b[0m\n\u001b[0;32m    139\u001b[0m     \u001b[1;32melse\u001b[0m\u001b[1;33m:\u001b[0m\u001b[1;33m\u001b[0m\u001b[0m\n",
      "\u001b[1;32m~\\Anaconda3\\lib\\site-packages\\scipy\\sparse\\compressed.py\u001b[0m in \u001b[0;36mtoarray\u001b[1;34m(self, order, out)\u001b[0m\n\u001b[0;32m    952\u001b[0m             \u001b[0my\u001b[0m \u001b[1;33m=\u001b[0m \u001b[0mout\u001b[0m\u001b[1;33m.\u001b[0m\u001b[0mT\u001b[0m\u001b[1;33m\u001b[0m\u001b[0m\n\u001b[0;32m    953\u001b[0m         \u001b[0mM\u001b[0m\u001b[1;33m,\u001b[0m \u001b[0mN\u001b[0m \u001b[1;33m=\u001b[0m \u001b[0mx\u001b[0m\u001b[1;33m.\u001b[0m\u001b[0m_swap\u001b[0m\u001b[1;33m(\u001b[0m\u001b[0mx\u001b[0m\u001b[1;33m.\u001b[0m\u001b[0mshape\u001b[0m\u001b[1;33m)\u001b[0m\u001b[1;33m\u001b[0m\u001b[0m\n\u001b[1;32m--> 954\u001b[1;33m         \u001b[0m_sparsetools\u001b[0m\u001b[1;33m.\u001b[0m\u001b[0mcsr_todense\u001b[0m\u001b[1;33m(\u001b[0m\u001b[0mM\u001b[0m\u001b[1;33m,\u001b[0m \u001b[0mN\u001b[0m\u001b[1;33m,\u001b[0m \u001b[0mx\u001b[0m\u001b[1;33m.\u001b[0m\u001b[0mindptr\u001b[0m\u001b[1;33m,\u001b[0m \u001b[0mx\u001b[0m\u001b[1;33m.\u001b[0m\u001b[0mindices\u001b[0m\u001b[1;33m,\u001b[0m \u001b[0mx\u001b[0m\u001b[1;33m.\u001b[0m\u001b[0mdata\u001b[0m\u001b[1;33m,\u001b[0m \u001b[0my\u001b[0m\u001b[1;33m)\u001b[0m\u001b[1;33m\u001b[0m\u001b[0m\n\u001b[0m\u001b[0;32m    955\u001b[0m         \u001b[1;32mreturn\u001b[0m \u001b[0mout\u001b[0m\u001b[1;33m\u001b[0m\u001b[0m\n\u001b[0;32m    956\u001b[0m \u001b[1;33m\u001b[0m\u001b[0m\n",
      "\u001b[1;31mKeyboardInterrupt\u001b[0m: "
     ]
    }
   ],
   "source": [
    "# Compute the cosine similarity matrix for feature matrix\n",
    "cosine_sim_features = cosine_similarity(feature_matrix)"
   ]
  },
  {
   "cell_type": "code",
   "execution_count": null,
   "metadata": {},
   "outputs": [],
   "source": [
    "# Get recs using the combined feature matrix\n",
    "similarities_features = [cosine_sim_features]\n",
    "weights_features = [1]\n",
    "recs_features = get_recommendations(books, indices, title, similarities_features, weights_features)\n",
    "recs_features"
   ]
  },
  {
   "cell_type": "code",
   "execution_count": null,
   "metadata": {
    "collapsed": true
   },
   "outputs": [],
   "source": [
    "'''\n",
    "\n",
    "Load in Item Matrix\n",
    "\n",
    "'''"
   ]
  },
  {
   "cell_type": "code",
   "execution_count": 14,
   "metadata": {},
   "outputs": [
    {
     "data": {
      "text/plain": [
       "(10000, 10)"
      ]
     },
     "execution_count": 14,
     "metadata": {},
     "output_type": "execute_result"
    }
   ],
   "source": [
    "# Load in item_matrix (concepts and features) and test recs\n",
    "filename = '../.tmp/item_matrix.npy'\n",
    "item_matrix = np.load(filename)\n",
    "item_matrix.shape"
   ]
  },
  {
   "cell_type": "code",
   "execution_count": 15,
   "metadata": {
    "collapsed": true
   },
   "outputs": [],
   "source": [
    "# Compute the cosine similarity matrix for the item matrix\n",
    "cosine_sim_item_matrix = cosine_similarity(item_matrix)"
   ]
  },
  {
   "cell_type": "code",
   "execution_count": 16,
   "metadata": {
    "collapsed": true
   },
   "outputs": [],
   "source": [
    "# Save similarity matrix using the item_matrix (joined matrices from ratings and features)\n",
    "filename = '../.tmp/similarity_matrix.npy'\n",
    "np.save(filename, cosine_sim_item_matrix)"
   ]
  },
  {
   "cell_type": "code",
   "execution_count": 17,
   "metadata": {},
   "outputs": [
    {
     "data": {
      "text/plain": [
       "id\n",
       "19     The Fellowship of the Ring (The Lord of the Ri...\n",
       "7                                             The Hobbit\n",
       "161    The Return of the King (The Lord of the Rings,...\n",
       "155           The Two Towers (The Lord of the Rings, #2)\n",
       "189    The Lord of the Rings (The Lord of the Rings, ...\n",
       "766                Preludes & Nocturnes (The Sandman #1)\n",
       "167                    American Gods (American Gods, #1)\n",
       "110       A Clash of Kings  (A Song of Ice and Fire, #2)\n",
       "135       A Storm of Swords (A Song of Ice and Fire, #3)\n",
       "232                  The Gunslinger (The Dark Tower, #1)\n",
       "165       A Feast for Crows (A Song of Ice and Fire, #4)\n",
       "188    A Dance with Dragons (A Song of Ice and Fire, #5)\n",
       "62           The Golden Compass (His Dark Materials, #1)\n",
       "283    Good Omens: The Nice and Accurate Prophecies o...\n",
       "205    Interview with the Vampire (The Vampire Chroni...\n",
       "612        The Drawing of the Three (The Dark Tower, #2)\n",
       "192    The Name of the Wind (The Kingkiller Chronicle...\n",
       "322                                           Neverwhere\n",
       "725                 The Waste Lands (The Dark Tower, #3)\n",
       "806                Wizard and Glass (The Dark Tower, #4)\n",
       "Name: title, dtype: object"
      ]
     },
     "execution_count": 17,
     "metadata": {},
     "output_type": "execute_result"
    }
   ],
   "source": [
    "# Get recs using the item matrix (concepts and features)\n",
    "similarities_item_matrix = [cosine_sim_item_matrix]\n",
    "weights_item_matrix = [1]\n",
    "recs_item_matrix = get_recommendations(books, indices, title, similarities_item_matrix, weights_item_matrix)\n",
    "recs_item_matrix"
   ]
  },
  {
   "cell_type": "code",
   "execution_count": 18,
   "metadata": {},
   "outputs": [
    {
     "data": {
      "text/plain": [
       "(10000, 5)"
      ]
     },
     "execution_count": 18,
     "metadata": {},
     "output_type": "execute_result"
    }
   ],
   "source": [
    "# Test just the matrix derived from a single matrix\n",
    "item_matrix_test = item_matrix[:,5:10]\n",
    "item_matrix_test.shape"
   ]
  },
  {
   "cell_type": "code",
   "execution_count": 19,
   "metadata": {
    "collapsed": true
   },
   "outputs": [],
   "source": [
    "# Compute the cosine similarity matrix for the collab filtering matrix\n",
    "cosine_sim_test = cosine_similarity(item_matrix_test)"
   ]
  },
  {
   "cell_type": "code",
   "execution_count": 20,
   "metadata": {},
   "outputs": [
    {
     "data": {
      "text/plain": [
       "id\n",
       "19      The Fellowship of the Ring (The Lord of the Ri...\n",
       "161     The Return of the King (The Lord of the Rings,...\n",
       "155            The Two Towers (The Lord of the Rings, #2)\n",
       "189     The Lord of the Rings (The Lord of the Rings, ...\n",
       "3521                             Neil Gaiman's Neverwhere\n",
       "5344               A Game of Thrones: Comic Book, Issue 1\n",
       "466                             The Hobbit: Graphic Novel\n",
       "6738    The Hedge Knight (The Hedge Knight Graphic Nov...\n",
       "4976         Unfinished Tales of Númenor and Middle-Earth\n",
       "2309                                The Children of Húrin\n",
       "7                                              The Hobbit\n",
       "8376                 Pani Jeziora (Saga o Wiedźminie, #7)\n",
       "7470    The Dresden Files:  Storm Front, Volume 1-  Th...\n",
       "2149    A Song of Ice and Fire (A Song of Ice and Fire...\n",
       "9578                        Berserk, Vol. 1 (Berserk, #1)\n",
       "2239    Dragons of Spring Dawning (Dragonlance: Chroni...\n",
       "2527    A Song of Ice and Fire (A Song of Ice and Fire...\n",
       "3500    Streams of Silver (Forgotten Realms: Icewind D...\n",
       "9975       The King Beyond the Gate (The Drenai Saga, #2)\n",
       "1261                               The Eyes of the Dragon\n",
       "Name: title, dtype: object"
      ]
     },
     "execution_count": 20,
     "metadata": {},
     "output_type": "execute_result"
    }
   ],
   "source": [
    "similarities_test = [cosine_sim_test]\n",
    "weights_test = [1]\n",
    "recs_test = get_recommendations(books, indices, title, similarities_test, weights_test)\n",
    "recs_test"
   ]
  },
  {
   "cell_type": "code",
   "execution_count": null,
   "metadata": {
    "collapsed": true
   },
   "outputs": [],
   "source": []
  }
 ],
 "metadata": {
  "kernelspec": {
   "display_name": "Python 3",
   "language": "python",
   "name": "python3"
  },
  "language_info": {
   "codemirror_mode": {
    "name": "ipython",
    "version": 3
   },
   "file_extension": ".py",
   "mimetype": "text/x-python",
   "name": "python",
   "nbconvert_exporter": "python",
   "pygments_lexer": "ipython3",
   "version": "3.6.3"
  }
 },
 "nbformat": 4,
 "nbformat_minor": 2
}
