{
 "cells": [
  {
   "cell_type": "code",
   "execution_count": 80,
   "metadata": {
    "collapsed": true,
    "scrolled": false
   },
   "outputs": [],
   "source": [
    "import os\n",
    "import sys\n",
    "import numpy as np\n",
    "import pandas as pd\n",
    "import scipy\n",
    "from sklearn.feature_extraction.text import TfidfVectorizer, CountVectorizer\n",
    "from sklearn.metrics.pairwise import linear_kernel, cosine_similarity\n",
    "from sklearn.decomposition import TruncatedSVD\n",
    "from surprise import Reader, Dataset, SVD, evaluate, dump, accuracy\n",
    "from collections import defaultdict\n",
    "\n",
    "# Custom libraries\n",
    "sys.path.append('../Util')\n",
    "from loader import get_books, get_book_dataframe, get_book_features\n",
    "from joiner import get_ratings, get_joint, load_amazon, load_goodreads\n",
    "from reduction import reduce_matrix, get_sparse"
   ]
  },
  {
   "cell_type": "code",
   "execution_count": 91,
   "metadata": {
    "collapsed": true,
    "scrolled": true
   },
   "outputs": [],
   "source": [
    "def get_top_n_recs(result, books, n, q):\n",
    "    recs = []\n",
    "    for i in range(len(result)):\n",
    "        if q[i] == 0: # book user hasn't already rated\n",
    "            recs.append((i, result[i]))\n",
    "        else:\n",
    "            recs.append((i, float('-inf'))) \n",
    "            # recs.append((i, result[i])) #leave this to verify things actually working\n",
    "    recs = sorted(recs, key=lambda tup: tup[1], reverse=True)\n",
    "\n",
    "    top_titles = []\n",
    "    for i in range(n):\n",
    "        book_id = recs[i][0]\n",
    "        title = books.iloc[book_id]['title']\n",
    "        top_titles.append(title)\n",
    "    return top_titles"
   ]
  },
  {
   "cell_type": "code",
   "execution_count": 82,
   "metadata": {
    "collapsed": true,
    "scrolled": true
   },
   "outputs": [],
   "source": [
    "def map_user(q, V):\n",
    "    # map new user to concept space by q*V\n",
    "    user_to_concept = np.matmul(q, V)\n",
    "    # map user back to itme space with user_to_concept * VT\n",
    "    result = np.matmul(user_to_concept, V.T)\n",
    "    return result"
   ]
  },
  {
   "cell_type": "code",
   "execution_count": 83,
   "metadata": {
    "collapsed": true,
    "scrolled": true
   },
   "outputs": [],
   "source": [
    "def map_user_sparse(q, V):\n",
    "    q_sparse = scipy.sparse.csr_matrix(q)\n",
    "    # map new user to concept space by q*V\n",
    "    user_to_concept = q_sparse.dot(V)\n",
    "    # map user back to itme space with user_to_concept * VT\n",
    "    result = user_to_concept.dot(V.T).todense()\n",
    "    return result.T"
   ]
  },
  {
   "cell_type": "code",
   "execution_count": 84,
   "metadata": {
    "collapsed": true
   },
   "outputs": [],
   "source": [
    "# Set this to where you save and load all data\n",
    "data_path = '../../goodbooks-10k/'"
   ]
  },
  {
   "cell_type": "code",
   "execution_count": 85,
   "metadata": {},
   "outputs": [
    {
     "name": "stdout",
     "output_type": "stream",
     "text": [
      "found books_dataframe in file...\n"
     ]
    }
   ],
   "source": [
    "# Get dataframe from books\n",
    "books = get_book_dataframe(data_path)"
   ]
  },
  {
   "cell_type": "code",
   "execution_count": 86,
   "metadata": {
    "collapsed": true,
    "scrolled": false
   },
   "outputs": [],
   "source": [
    "filename = '../.tmp/svd_20_1000.npy'\n",
    "qi = np.load(filename)"
   ]
  },
  {
   "cell_type": "code",
   "execution_count": 8,
   "metadata": {
    "scrolled": true
   },
   "outputs": [
    {
     "data": {
      "text/plain": [
       "\"\\nUsers Ratings need to be in a -2 - 3 scale. Bad ratings should count 'against' recs\\n\""
      ]
     },
     "execution_count": 8,
     "metadata": {},
     "output_type": "execute_result"
    }
   ],
   "source": [
    "'''\n",
    "Users Ratings need to be in a -2 - 3 scale. Bad ratings should count 'against' recs\n",
    "'''"
   ]
  },
  {
   "cell_type": "code",
   "execution_count": 96,
   "metadata": {
    "scrolled": false
   },
   "outputs": [
    {
     "data": {
      "text/plain": [
       "(10000,)"
      ]
     },
     "execution_count": 96,
     "metadata": {},
     "output_type": "execute_result"
    }
   ],
   "source": [
    "# user from goodreads\n",
    "sparse_q = scipy.sparse.load_npz('../.tmp/cached_users/user_nickgreenquist.npz')\n",
    "q = sparse_q.toarray()\n",
    "q = np.array(q[0].tolist())\n",
    "q.shape"
   ]
  },
  {
   "cell_type": "code",
   "execution_count": 97,
   "metadata": {},
   "outputs": [
    {
     "data": {
      "text/plain": [
       "(10000,)"
      ]
     },
     "execution_count": 97,
     "metadata": {},
     "output_type": "execute_result"
    }
   ],
   "source": [
    "sparse_q = scipy.sparse.load_npz('../.tmp/cached_users/user_likes_fantasy.npz')\n",
    "q = sparse_q.toarray()\n",
    "q = np.array(q[0].tolist())\n",
    "q.shape"
   ]
  },
  {
   "cell_type": "code",
   "execution_count": 89,
   "metadata": {
    "scrolled": true
   },
   "outputs": [
    {
     "data": {
      "text/plain": [
       "(10000, 1000)"
      ]
     },
     "execution_count": 89,
     "metadata": {},
     "output_type": "execute_result"
    }
   ],
   "source": [
    "# r^ui = μ + bu + bi + qTipu\n",
    "qi.shape"
   ]
  },
  {
   "cell_type": "code",
   "execution_count": 98,
   "metadata": {
    "scrolled": false
   },
   "outputs": [
    {
     "name": "stdout",
     "output_type": "stream",
     "text": [
      "City of Glass (The Mortal Instruments, #3)\n",
      "The Scarlet Letter\n",
      "The Other Boleyn Girl (The Plantagenet and Tudor Novels, #9)\n",
      "The Lucky One\n",
      "The Shining (The Shining #1)\n",
      "A Breath of Snow and Ashes (Outlander, #6)\n",
      "Veronika Decides to Die\n",
      "Last Chance Saloon\n",
      "Treasure Island\n",
      "The White Queen (The Plantagenet and Tudor Novels, #2)\n",
      "Year of Yes: How to Dance It Out, Stand In the Sun and Be Your Own Person\n",
      "One Flew Over the Cuckoo's Nest\n",
      "Outlander (Outlander, #1)\n",
      "Four to Score (Stephanie Plum, #4)\n",
      "Today Will Be Different\n",
      "The Return of Sherlock Holmes\n",
      "Heaven is for Real: A Little Boy's Astounding Story of His Trip to Heaven and Back\n",
      "The Boys in the Boat: Nine Americans and Their Epic Quest for Gold at the 1936 Berlin Olympics\n",
      "Scrappy Little Nobody\n",
      "The Light Between Oceans\n",
      "The Son of Neptune (The Heroes of Olympus, #2)\n",
      "Ultimate Spider-Man, Volume 1: Power and Responsibility\n",
      "Eat, Pray, Love\n",
      "The League of Extraordinary Gentlemen, Vol. 1\n",
      "The Story of Edgar Sawtelle\n"
     ]
    }
   ],
   "source": [
    "recs = get_top_n_recs(map_user(q, qi), books, 25, q)\n",
    "for r in recs:\n",
    "    print(r)"
   ]
  },
  {
   "cell_type": "code",
   "execution_count": 99,
   "metadata": {
    "scrolled": true
   },
   "outputs": [
    {
     "data": {
      "text/plain": [
       "'\\n\\nUse Item Matrix to get recs for new user\\n\\n'"
      ]
     },
     "execution_count": 99,
     "metadata": {},
     "output_type": "execute_result"
    }
   ],
   "source": [
    "'''\n",
    "\n",
    "Use Item Matrix to get recs for new user\n",
    "\n",
    "'''"
   ]
  },
  {
   "cell_type": "code",
   "execution_count": 100,
   "metadata": {
    "scrolled": true
   },
   "outputs": [
    {
     "data": {
      "text/plain": [
       "(10000, 2000)"
      ]
     },
     "execution_count": 100,
     "metadata": {},
     "output_type": "execute_result"
    }
   ],
   "source": [
    "# Load in item_matrix (concepts and features) and test recs\n",
    "filename = '../.tmp/item_matrix.npy'\n",
    "item_matrix = np.load(filename)\n",
    "item_matrix.shape"
   ]
  },
  {
   "cell_type": "code",
   "execution_count": 101,
   "metadata": {
    "scrolled": true
   },
   "outputs": [
    {
     "name": "stdout",
     "output_type": "stream",
     "text": [
      "The Name of the Wind (The Kingkiller Chronicle, #1)\n",
      "The Belgariad Boxed Set: Pawn of Prophecy / Queen of Sorcery / Magician's Gambit / Castle of Wizardry / Enchanters' End Game (The Belgariad, #1-5)\n",
      "The Farthest Shore (Earthsea Cycle, #3)\n",
      "The Wise Man's Fear (The Kingkiller Chronicle, #2)\n",
      "The Chronicles of Thomas Covenant, the Unbeliever (The Chronicles of Thomas Covenant the Unbeliever, #1-3)\n",
      "Lord Foul's Bane (The Chronicles of Thomas Covenant the Unbeliever, #1)\n",
      "The Blade Itself (The First Law, #1)\n",
      "The Belgariad, Vol. 1: Pawn of Prophecy / Queen of Sorcery / Magician's Gambit (The Belgariad, #1-3)\n",
      "The Lies of Locke Lamora (Gentleman Bastard, #1)\n",
      "A Song of Ice and Fire (A Song of Ice and Fire, #1-4)\n",
      "Rhapsody: Child of Blood (Symphony of Ages, #1)\n",
      "The Dragon's Path (The Dagger and the Coin, #1)\n",
      "The Crown Conspiracy (The Riyria Revelations, #1)\n",
      "The Great Book of Amber (The Chronicles of Amber, #1-10)\n",
      "The Tombs of Atuan (Earthsea Cycle, #2)\n",
      "The Hundred Thousand Kingdoms (Inheritance Trilogy, #1)\n",
      "The Broken Kingdoms (Inheritance, #2)\n",
      "Tigana\n",
      "The Warded Man (Demon Cycle, #1)\n",
      "The Magic of Recluce (The Saga of Recluce #1)\n",
      "Green Rider (Green Rider, #1)\n",
      "Red Seas Under Red Skies (Gentleman Bastard, #2)\n",
      "The Republic of Thieves (Gentleman Bastard, #3)\n",
      "Raymond E. Feist's Magician Master\n",
      "The Crown Tower (The Riyria Chronicles, #1)\n"
     ]
    }
   ],
   "source": [
    "recs = get_top_n_recs(map_user(q, item_matrix), books, 25, q)\n",
    "for r in recs:\n",
    "    print(r)"
   ]
  },
  {
   "cell_type": "code",
   "execution_count": 12,
   "metadata": {
    "scrolled": true
   },
   "outputs": [
    {
     "data": {
      "text/plain": [
       "'\\n\\nUse Just part of Item Matrix for Recs\\n\\n'"
      ]
     },
     "execution_count": 12,
     "metadata": {},
     "output_type": "execute_result"
    }
   ],
   "source": [
    "'''\n",
    "\n",
    "Use Just part of Item Matrix for Recs\n",
    "\n",
    "'''"
   ]
  },
  {
   "cell_type": "code",
   "execution_count": 12,
   "metadata": {},
   "outputs": [
    {
     "data": {
      "text/plain": [
       "(-0.77808343373846678, 1.4040590953389824)"
      ]
     },
     "execution_count": 12,
     "metadata": {},
     "output_type": "execute_result"
    }
   ],
   "source": [
    "part = item_matrix[:,10:110]\n",
    "(np.amin(part), np.amax(part))"
   ]
  },
  {
   "cell_type": "code",
   "execution_count": 13,
   "metadata": {
    "scrolled": true
   },
   "outputs": [
    {
     "name": "stdout",
     "output_type": "stream",
     "text": [
      "The Lord of the Rings (The Lord of the Rings, #1-3)\n",
      "The Fellowship of the Ring (The Lord of the Rings, #1)\n",
      "The Hobbit\n",
      "The Return of the King (The Lord of the Rings, #3)\n",
      "The Two Towers (The Lord of the Rings, #2)\n",
      "The Belgariad, Vol. 1: Pawn of Prophecy / Queen of Sorcery / Magician's Gambit (The Belgariad, #1-3)\n",
      "The Name of the Wind (The Kingkiller Chronicle, #1)\n",
      "The Farthest Shore (Earthsea Cycle, #3)\n",
      "The Tombs of Atuan (Earthsea Cycle, #2)\n",
      "The Crown Conspiracy (The Riyria Revelations, #1)\n"
     ]
    }
   ],
   "source": [
    "recs = get_top_n_recs(map_user(q, part), books, 10, q)\n",
    "for r in recs:\n",
    "    print(r)"
   ]
  },
  {
   "cell_type": "code",
   "execution_count": 14,
   "metadata": {
    "scrolled": true
   },
   "outputs": [
    {
     "data": {
      "text/plain": [
       "'\\n\\nUse Feature Matrix for Recs\\n\\n'"
      ]
     },
     "execution_count": 14,
     "metadata": {},
     "output_type": "execute_result"
    }
   ],
   "source": [
    "'''\n",
    "\n",
    "Use Feature Matrix for Recs\n",
    "\n",
    "'''"
   ]
  },
  {
   "cell_type": "code",
   "execution_count": 14,
   "metadata": {
    "scrolled": true
   },
   "outputs": [
    {
     "name": "stdout",
     "output_type": "stream",
     "text": [
      "feature_matrix exists in file...\n"
     ]
    },
    {
     "data": {
      "text/plain": [
       "(10000, 82203)"
      ]
     },
     "execution_count": 14,
     "metadata": {},
     "output_type": "execute_result"
    }
   ],
   "source": [
    "# produce feature matrix\n",
    "feature_matrix = get_book_features(books)\n",
    "feature_matrix.shape"
   ]
  },
  {
   "cell_type": "code",
   "execution_count": 15,
   "metadata": {
    "scrolled": true
   },
   "outputs": [
    {
     "name": "stdout",
     "output_type": "stream",
     "text": [
      "A Wrinkle in Time (A Wrinkle in Time Quintet, #1)\n",
      "Grendel\n",
      "A Wizard of Earthsea (Earthsea Cycle, #1)\n",
      "Dandelion Wine (Green Town, #1)\n",
      "A Wind in the Door (A Wrinkle in Time Quintet, #2)\n",
      "Many Waters (A Wrinkle in Time Quintet, #4)\n",
      "An Acceptable Time (A Wrinkle in Time Quintet, #5)\n",
      "The Earthsea Trilogy\n",
      "A Swiftly Tilting Planet (A Wrinkle in Time Quintet, #3)\n",
      "Slaughterhouse-Five\n",
      "Flowers for Algernon\n",
      "Tuck Everlasting\n",
      "The Bone Clocks\n",
      "Alice in Wonderland\n",
      "The Neverending Story\n",
      "Alice's Adventures in Wonderland & Through the Looking-Glass\n",
      "Howl's Moving Castle (Howl's Moving Castle, #1)\n",
      "The Lost World (Professor Challenger, #1)\n",
      "Brave New World Revisited \n",
      "Alice's Adventures in Wonderland\n",
      "Through the Looking-Glass, and What Alice Found There\n",
      "Brave New World / Brave New World Revisited\n",
      "The Horse and His Boy (Chronicles of Narnia, #5)\n",
      "The Buried Giant\n",
      "Journey to the Center of the Earth (Extraordinary Voyages, #3)\n"
     ]
    }
   ],
   "source": [
    "recs = get_top_n_recs(map_user_sparse(q, feature_matrix), books, 25, q)\n",
    "for r in recs:\n",
    "    print(r)"
   ]
  }
 ],
 "metadata": {
  "kernelspec": {
   "display_name": "Python 3",
   "language": "python",
   "name": "python3"
  },
  "language_info": {
   "codemirror_mode": {
    "name": "ipython",
    "version": 3
   },
   "file_extension": ".py",
   "mimetype": "text/x-python",
   "name": "python",
   "nbconvert_exporter": "python",
   "pygments_lexer": "ipython3",
   "version": "3.6.3"
  }
 },
 "nbformat": 4,
 "nbformat_minor": 2
}
