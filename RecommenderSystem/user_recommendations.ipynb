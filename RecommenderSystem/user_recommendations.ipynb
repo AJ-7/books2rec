{
 "cells": [
  {
   "cell_type": "code",
   "execution_count": 1,
   "metadata": {
    "collapsed": true,
    "scrolled": false
   },
   "outputs": [],
   "source": [
    "import os\n",
    "import sys\n",
    "import numpy as np\n",
    "import pandas as pd\n",
    "import scipy\n",
    "from sklearn.feature_extraction.text import TfidfVectorizer, CountVectorizer\n",
    "from sklearn.metrics.pairwise import linear_kernel, cosine_similarity\n",
    "from sklearn.decomposition import TruncatedSVD\n",
    "from surprise import Reader, Dataset, SVD, evaluate, dump, accuracy\n",
    "from collections import defaultdict\n",
    "\n",
    "# Custom libraries\n",
    "sys.path.append('../Util')\n",
    "from loader import get_books, get_book_dataframe, get_book_features\n",
    "from joiner import get_ratings, get_joint, load_amazon, load_goodreads\n",
    "from reduction import reduce_matrix, get_sparse"
   ]
  },
  {
   "cell_type": "code",
   "execution_count": 2,
   "metadata": {
    "collapsed": true,
    "scrolled": true
   },
   "outputs": [],
   "source": [
    "def get_top_n_recs(result, books, n, q):\n",
    "    recs = []\n",
    "    for i in range(len(result)):\n",
    "        if q[i] == 0: # book user hasn't already rated\n",
    "            recs.append((i, result[i]))\n",
    "        else:\n",
    "            # recs.append((i, float('-inf'))) \n",
    "            recs.append((i, result[i])) #leave this to verify things actually working\n",
    "    recs = sorted(recs, key=lambda tup: tup[1], reverse=True)\n",
    "\n",
    "    top_titles = []\n",
    "    for i in range(n):\n",
    "        book_id = recs[i][0]\n",
    "        title = books.iloc[book_id]['title']\n",
    "        top_titles.append(title)\n",
    "    return top_titles"
   ]
  },
  {
   "cell_type": "code",
   "execution_count": 3,
   "metadata": {
    "collapsed": true,
    "scrolled": true
   },
   "outputs": [],
   "source": [
    "def map_user(q, V):\n",
    "    # map new user to concept space by q*V\n",
    "    user_to_concept = np.matmul(q, V)\n",
    "    # map user back to itme space with user_to_concept * VT\n",
    "    result = np.matmul(user_to_concept, V.T)\n",
    "    return result"
   ]
  },
  {
   "cell_type": "code",
   "execution_count": 4,
   "metadata": {
    "collapsed": true,
    "scrolled": true
   },
   "outputs": [],
   "source": [
    "def map_user_sparse(q, V):\n",
    "    q_sparse = scipy.sparse.csr_matrix(q)\n",
    "    # map new user to concept space by q*V\n",
    "    user_to_concept = q_sparse.dot(V)\n",
    "    # map user back to itme space with user_to_concept * VT\n",
    "    result = user_to_concept.dot(V.T).todense()\n",
    "    return result.T"
   ]
  },
  {
   "cell_type": "code",
   "execution_count": 5,
   "metadata": {
    "collapsed": true
   },
   "outputs": [],
   "source": [
    "# Set this to where you save and load all data\n",
    "data_path = '../../goodbooks-10k/'"
   ]
  },
  {
   "cell_type": "code",
   "execution_count": 6,
   "metadata": {},
   "outputs": [
    {
     "name": "stdout",
     "output_type": "stream",
     "text": [
      "found books_dataframe in file...\n"
     ]
    }
   ],
   "source": [
    "# Get dataframe from books\n",
    "books = get_book_dataframe(data_path)"
   ]
  },
  {
   "cell_type": "code",
   "execution_count": 7,
   "metadata": {
    "collapsed": true,
    "scrolled": false
   },
   "outputs": [],
   "source": [
    "filename = '../.tmp/svd_100_300.npy'\n",
    "qi = np.load(filename)"
   ]
  },
  {
   "cell_type": "code",
   "execution_count": 8,
   "metadata": {
    "scrolled": true
   },
   "outputs": [
    {
     "data": {
      "text/plain": [
       "\"\\nUsers Ratings need to be in a -2 - 3 scale. Bad ratings should count 'against' recs\\n\""
      ]
     },
     "execution_count": 8,
     "metadata": {},
     "output_type": "execute_result"
    }
   ],
   "source": [
    "'''\n",
    "Users Ratings need to be in a -2 - 3 scale. Bad ratings should count 'against' recs\n",
    "'''"
   ]
  },
  {
   "cell_type": "code",
   "execution_count": 10,
   "metadata": {
    "collapsed": true,
    "scrolled": true
   },
   "outputs": [],
   "source": [
    "# new user - likes fantasy\n",
    "q = np.zeros((10000), dtype = np.int)\n",
    "q[19-1] = 2.0 # LOTR 1\n",
    "# q[155-1] = 2.0 # LOTR 2\n",
    "# q[161-1] = 2.0 # LOTR 3\n",
    "# q[7-1] = 2.0 # Hobbit\n",
    "# q[611-1] = 2.0 #Silmarillion\n",
    "# q[189-1] = 2.0 #LOTR boxed set\n",
    "# q[135-1] = 2.0 #GOT\n",
    "# q[188-1] = 2.0 #GOT\n",
    "# q[330-1] = 2.0 #WOT\n",
    "# q[510-1] = 2.0 #WOT"
   ]
  },
  {
   "cell_type": "code",
   "execution_count": 15,
   "metadata": {
    "collapsed": true,
    "scrolled": true
   },
   "outputs": [],
   "source": [
    "# new user - likes sci-fi and mystery, hates fantasy\n",
    "q = np.zeros((10000), dtype = np.int)\n",
    "q[126-1] = 2.0 # Dune\n",
    "q[70-1] = 2.0 # Enders Game\n",
    "q[503-1] = 2.0 # Space Odyssey\n",
    "\n",
    "q[514-1] = 2.0 # Sherlock Holmens\n",
    "q[672-1] = 2.0 # Orient Express\n",
    "q[200-1] = 2.0 # And then there were none\n",
    "\n",
    "q[19-1] = -2.0 # LOTR 1\n",
    "q[155-1] = -2.0 # LOTR 2\n",
    "q[161-1] = -2.0 # LOTR 3\n",
    "q[7-1] = -2.0 # Hobbit"
   ]
  },
  {
   "cell_type": "code",
   "execution_count": 12,
   "metadata": {
    "collapsed": true,
    "scrolled": false
   },
   "outputs": [],
   "source": [
    "# user from goodreads\n",
    "q = np.load('../.tmp/user_nickgreenquist.npy')\n",
    "\n",
    "# Turn 1-5 rating scale into negative - positive scale\n",
    "ratings_mapper = {0:0, 1:-2, 2:-1, 3:1, 4:2, 5:3}\n",
    "for i in range(len(q)):\n",
    "    q[i] = ratings_mapper[q[i]]\n",
    "\n",
    "# for i in range(len(q)):\n",
    "#     if q[i] != 0:\n",
    "#         title = books.iloc[i]['title']\n",
    "#         print(\"%s --> %s\" % (q[i], title))"
   ]
  },
  {
   "cell_type": "code",
   "execution_count": 13,
   "metadata": {
    "scrolled": true
   },
   "outputs": [
    {
     "data": {
      "text/plain": [
       "(10000, 300)"
      ]
     },
     "execution_count": 13,
     "metadata": {},
     "output_type": "execute_result"
    }
   ],
   "source": [
    "# r^ui = μ + bu + bi + qTipu\n",
    "qi.shape"
   ]
  },
  {
   "cell_type": "code",
   "execution_count": 16,
   "metadata": {
    "scrolled": false
   },
   "outputs": [
    {
     "name": "stdout",
     "output_type": "stream",
     "text": [
      "And Then There Were None\n",
      "Ender's Game (Ender's Saga, #1)\n",
      "The Adventures of Sherlock Holmes\n",
      "Murder on the Orient Express (Hercule Poirot, #10)\n",
      "2001: A Space Odyssey (Space Odyssey, #1)\n",
      "Batman: Year One\n",
      "A Christmas Carol\n",
      "The Corrections\n",
      "Servant of the Shard (Forgotten Realms: Paths of Darkness, #3; The Sellswords, #1)\n",
      "Shatter Me (Shatter Me, #1)\n",
      "Maid-sama! Vol. 01 (Maid-sama!, #1)\n",
      "The Shining (The Shining #1)\n",
      "Frog and Toad All Year (Frog and Toad, #3)\n",
      "One Day at Horrorland (Goosebumps, #16)\n",
      "The Rise of Nine (Lorien Legacies, #3)\n",
      "The Heir (The Selection, #4)\n",
      "The Matarese Circle (Matarese #1)\n",
      "Magician: Apprentice (The Riftwar Saga, #1)\n",
      "Babe: The Gallant Pig\n",
      "The Hundred-Foot Journey\n",
      "The Elementary Particles\n",
      "Faust: First Part\n",
      "The Creative License: Giving Yourself Permission to Be The Artist You Truly Are\n",
      "Born on a Blue Day: Inside the Extraordinary Mind of an Autistic Savant\n",
      "The One Thing: The Surprisingly Simple Truth Behind Extraordinary Results\n"
     ]
    }
   ],
   "source": [
    "recs = get_top_n_recs(map_user(q, qi), books, 25, q)\n",
    "for r in recs:\n",
    "    print(r)"
   ]
  },
  {
   "cell_type": "code",
   "execution_count": 9,
   "metadata": {
    "scrolled": true
   },
   "outputs": [
    {
     "data": {
      "text/plain": [
       "'\\n\\nUse Item Matrix to get recs for new user\\n\\n'"
      ]
     },
     "execution_count": 9,
     "metadata": {},
     "output_type": "execute_result"
    }
   ],
   "source": [
    "'''\n",
    "\n",
    "Use Item Matrix to get recs for new user\n",
    "\n",
    "'''"
   ]
  },
  {
   "cell_type": "code",
   "execution_count": 17,
   "metadata": {
    "scrolled": true
   },
   "outputs": [
    {
     "data": {
      "text/plain": [
       "(10000, 110)"
      ]
     },
     "execution_count": 17,
     "metadata": {},
     "output_type": "execute_result"
    }
   ],
   "source": [
    "# Load in item_matrix (concepts and features) and test recs\n",
    "filename = '../.tmp/item_matrix.npy'\n",
    "item_matrix = np.load(filename)\n",
    "item_matrix.shape"
   ]
  },
  {
   "cell_type": "code",
   "execution_count": 18,
   "metadata": {
    "scrolled": true
   },
   "outputs": [
    {
     "name": "stdout",
     "output_type": "stream",
     "text": [
      "And Then There Were None\n",
      "The Invisible Man\n",
      "The Girl on the Train\n",
      "The Mysterious Affair at Styles (Hercule Poirot, #1)\n",
      "Seveneves\n",
      "Shutter Island\n",
      "Starship Troopers\n",
      "Revelation Space\n",
      "Fearless (The Lost Fleet, #2)\n",
      "The Neutronium Alchemist (Night's Dawn, #2)\n",
      "4:50 from Paddington (Miss Marple, #8)\n",
      "The Sunday Philosophy Club (Isabel Dalhousie, #1)\n",
      "Armada\n",
      "Gone Girl\n",
      "The Further Adventures of Sherlock Holmes: After Sir Arthur Conan Doyle (Classic Crime)\n",
      "Ubik\n",
      "Faithful Place (Dublin Murder Squad, #3)\n",
      "A Great Reckoning (Chief Inspector Armand Gamache, #12)\n",
      "Beacon 23: The Complete Novel (Beacon 23, #1-5)\n",
      "The Time Machine\n",
      "Murder on the Orient Express (Hercule Poirot, #10)\n",
      "Departure\n",
      "Death on the Nile (Hercule Poirot, #17)\n",
      "Dawn (Xenogenesis, #1)\n",
      "The Secret Adversary (Tommy and Tuppence #1)\n"
     ]
    }
   ],
   "source": [
    "recs = get_top_n_recs(map_user(q, item_matrix), books, 25, q)\n",
    "for r in recs:\n",
    "    print(r)"
   ]
  },
  {
   "cell_type": "code",
   "execution_count": 12,
   "metadata": {
    "scrolled": true
   },
   "outputs": [
    {
     "data": {
      "text/plain": [
       "'\\n\\nUse Just part of Item Matrix for Recs\\n\\n'"
      ]
     },
     "execution_count": 12,
     "metadata": {},
     "output_type": "execute_result"
    }
   ],
   "source": [
    "'''\n",
    "\n",
    "Use Just part of Item Matrix for Recs\n",
    "\n",
    "'''"
   ]
  },
  {
   "cell_type": "code",
   "execution_count": 12,
   "metadata": {},
   "outputs": [
    {
     "data": {
      "text/plain": [
       "(-0.77808343373846678, 1.4040590953389824)"
      ]
     },
     "execution_count": 12,
     "metadata": {},
     "output_type": "execute_result"
    }
   ],
   "source": [
    "part = item_matrix[:,10:110]\n",
    "(np.amin(part), np.amax(part))"
   ]
  },
  {
   "cell_type": "code",
   "execution_count": 13,
   "metadata": {
    "scrolled": true
   },
   "outputs": [
    {
     "name": "stdout",
     "output_type": "stream",
     "text": [
      "The Lord of the Rings (The Lord of the Rings, #1-3)\n",
      "The Fellowship of the Ring (The Lord of the Rings, #1)\n",
      "The Hobbit\n",
      "The Return of the King (The Lord of the Rings, #3)\n",
      "The Two Towers (The Lord of the Rings, #2)\n",
      "The Belgariad, Vol. 1: Pawn of Prophecy / Queen of Sorcery / Magician's Gambit (The Belgariad, #1-3)\n",
      "The Name of the Wind (The Kingkiller Chronicle, #1)\n",
      "The Farthest Shore (Earthsea Cycle, #3)\n",
      "The Tombs of Atuan (Earthsea Cycle, #2)\n",
      "The Crown Conspiracy (The Riyria Revelations, #1)\n"
     ]
    }
   ],
   "source": [
    "recs = get_top_n_recs(map_user(q, part), books, 10, q)\n",
    "for r in recs:\n",
    "    print(r)"
   ]
  },
  {
   "cell_type": "code",
   "execution_count": 14,
   "metadata": {
    "scrolled": true
   },
   "outputs": [
    {
     "data": {
      "text/plain": [
       "'\\n\\nUse Feature Matrix for Recs\\n\\n'"
      ]
     },
     "execution_count": 14,
     "metadata": {},
     "output_type": "execute_result"
    }
   ],
   "source": [
    "'''\n",
    "\n",
    "Use Feature Matrix for Recs\n",
    "\n",
    "'''"
   ]
  },
  {
   "cell_type": "code",
   "execution_count": 14,
   "metadata": {
    "scrolled": true
   },
   "outputs": [
    {
     "name": "stdout",
     "output_type": "stream",
     "text": [
      "feature_matrix exists in file...\n"
     ]
    },
    {
     "data": {
      "text/plain": [
       "(10000, 82203)"
      ]
     },
     "execution_count": 14,
     "metadata": {},
     "output_type": "execute_result"
    }
   ],
   "source": [
    "# produce feature matrix\n",
    "feature_matrix = get_book_features(books)\n",
    "feature_matrix.shape"
   ]
  },
  {
   "cell_type": "code",
   "execution_count": 15,
   "metadata": {
    "scrolled": true
   },
   "outputs": [
    {
     "name": "stdout",
     "output_type": "stream",
     "text": [
      "A Wrinkle in Time (A Wrinkle in Time Quintet, #1)\n",
      "Grendel\n",
      "A Wizard of Earthsea (Earthsea Cycle, #1)\n",
      "Dandelion Wine (Green Town, #1)\n",
      "A Wind in the Door (A Wrinkle in Time Quintet, #2)\n",
      "Many Waters (A Wrinkle in Time Quintet, #4)\n",
      "An Acceptable Time (A Wrinkle in Time Quintet, #5)\n",
      "The Earthsea Trilogy\n",
      "A Swiftly Tilting Planet (A Wrinkle in Time Quintet, #3)\n",
      "Slaughterhouse-Five\n",
      "Flowers for Algernon\n",
      "Tuck Everlasting\n",
      "The Bone Clocks\n",
      "Alice in Wonderland\n",
      "The Neverending Story\n",
      "Alice's Adventures in Wonderland & Through the Looking-Glass\n",
      "Howl's Moving Castle (Howl's Moving Castle, #1)\n",
      "The Lost World (Professor Challenger, #1)\n",
      "Brave New World Revisited \n",
      "Alice's Adventures in Wonderland\n",
      "Through the Looking-Glass, and What Alice Found There\n",
      "Brave New World / Brave New World Revisited\n",
      "The Horse and His Boy (Chronicles of Narnia, #5)\n",
      "The Buried Giant\n",
      "Journey to the Center of the Earth (Extraordinary Voyages, #3)\n"
     ]
    }
   ],
   "source": [
    "recs = get_top_n_recs(map_user_sparse(q, feature_matrix), books, 25, q)\n",
    "for r in recs:\n",
    "    print(r)"
   ]
  },
  {
   "cell_type": "code",
   "execution_count": null,
   "metadata": {
    "collapsed": true,
    "scrolled": true
   },
   "outputs": [],
   "source": []
  },
  {
   "cell_type": "code",
   "execution_count": null,
   "metadata": {
    "collapsed": true,
    "scrolled": true
   },
   "outputs": [],
   "source": []
  }
 ],
 "metadata": {
  "kernelspec": {
   "display_name": "Python 3",
   "language": "python",
   "name": "python3"
  },
  "language_info": {
   "codemirror_mode": {
    "name": "ipython",
    "version": 3
   },
   "file_extension": ".py",
   "mimetype": "text/x-python",
   "name": "python",
   "nbconvert_exporter": "python",
   "pygments_lexer": "ipython3",
   "version": "3.6.3"
  }
 },
 "nbformat": 4,
 "nbformat_minor": 2
}
