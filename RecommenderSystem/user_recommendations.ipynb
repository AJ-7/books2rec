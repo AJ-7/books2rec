{
 "cells": [
  {
   "cell_type": "code",
   "execution_count": 1,
   "metadata": {
    "collapsed": true,
    "scrolled": false
   },
   "outputs": [],
   "source": [
    "import os\n",
    "import sys\n",
    "import numpy as np\n",
    "import pandas as pd\n",
    "import scipy\n",
    "from sklearn.feature_extraction.text import TfidfVectorizer, CountVectorizer\n",
    "from sklearn.metrics.pairwise import linear_kernel, cosine_similarity\n",
    "from sklearn.decomposition import TruncatedSVD\n",
    "from surprise import Reader, Dataset, SVD, evaluate, dump, accuracy\n",
    "from collections import defaultdict\n",
    "\n",
    "# Custom libraries\n",
    "sys.path.append('../Util')\n",
    "from loader import get_books, get_book_dataframe, get_book_features\n",
    "from joiner import get_ratings, get_joint\n",
    "from reduction import reduce_matrix, get_sparse"
   ]
  },
  {
   "cell_type": "code",
   "execution_count": 2,
   "metadata": {
    "collapsed": true,
    "scrolled": true
   },
   "outputs": [],
   "source": [
    "def get_top_n_recs(result, books, n, q):\n",
    "    recs = []\n",
    "    for i in range(len(result)):\n",
    "        if q[i] == 0: # book user hasn't already rated\n",
    "            recs.append((i, result[i]))\n",
    "        else:\n",
    "            recs.append((i, float('-inf')))\n",
    "    recs = sorted(recs, key=lambda tup: tup[1], reverse=True)\n",
    "\n",
    "    top_titles = []\n",
    "    for i in range(n):\n",
    "        book_id = recs[i][0]\n",
    "        title = books.iloc[book_id]['title']\n",
    "        top_titles.append(title)\n",
    "    return top_titles"
   ]
  },
  {
   "cell_type": "code",
   "execution_count": 3,
   "metadata": {
    "collapsed": true,
    "scrolled": true
   },
   "outputs": [],
   "source": [
    "def map_user(q, V):\n",
    "    # map new user to concept space by q*V\n",
    "    user_to_concept = np.matmul(q, V)\n",
    "    # map user back to itme space with user_to_concept * VT\n",
    "    result = np.matmul(user_to_concept, V.T)\n",
    "    return result"
   ]
  },
  {
   "cell_type": "code",
   "execution_count": 4,
   "metadata": {
    "collapsed": true,
    "scrolled": true
   },
   "outputs": [],
   "source": [
    "def map_user_sparse(q, V):\n",
    "    q_sparse = scipy.sparse.csr_matrix(q)\n",
    "    # map new user to concept space by q*V\n",
    "    user_to_concept = q_sparse.dot(V)\n",
    "    # map user back to itme space with user_to_concept * VT\n",
    "    result = user_to_concept.dot(V.T).todense()\n",
    "    return result.T"
   ]
  },
  {
   "cell_type": "code",
   "execution_count": 5,
   "metadata": {
    "collapsed": true,
    "scrolled": false
   },
   "outputs": [],
   "source": [
    "# Set this to where you save and load all data\n",
    "data_path = '../../goodbooks-10k/'"
   ]
  },
  {
   "cell_type": "code",
   "execution_count": 6,
   "metadata": {
    "scrolled": false
   },
   "outputs": [
    {
     "name": "stdout",
     "output_type": "stream",
     "text": [
      "found books_dataframe in file...\n"
     ]
    }
   ],
   "source": [
    "# Get dataframe from books\n",
    "books = get_book_dataframe(data_path)"
   ]
  },
  {
   "cell_type": "code",
   "execution_count": 34,
   "metadata": {
    "collapsed": true,
    "scrolled": false
   },
   "outputs": [],
   "source": [
    "# only readin in goodreads ratings here, join amazon to this\n",
    "ratings = pd.read_csv(data_path + 'ratings.csv')"
   ]
  },
  {
   "cell_type": "code",
   "execution_count": 38,
   "metadata": {
    "collapsed": true,
    "scrolled": false
   },
   "outputs": [],
   "source": [
    "# prepare to be read in to Reader\n",
    "ratings = ratings.sort_values(by=['user_id','book_id'])\n",
    "ratings = ratings.reset_index(drop=True)\n",
    "ratings = ratings.rename(index=str, columns={\"user_id\": \"userID\", \"book_id\": \"itemID\", \"rating\": \"rating\"})"
   ]
  },
  {
   "cell_type": "code",
   "execution_count": 40,
   "metadata": {
    "collapsed": true,
    "scrolled": false
   },
   "outputs": [],
   "source": [
    "reader = Reader(rating_scale=(1, 5))\n",
    "data = Dataset.load_from_df(ratings[['userID', 'itemID', 'rating']], reader)"
   ]
  },
  {
   "cell_type": "code",
   "execution_count": 51,
   "metadata": {
    "collapsed": true,
    "scrolled": false
   },
   "outputs": [],
   "source": [
    "svd = SVD(n_factors=100, n_epochs=20, random_state=1984)"
   ]
  },
  {
   "cell_type": "code",
   "execution_count": null,
   "metadata": {
    "collapsed": true,
    "scrolled": false
   },
   "outputs": [],
   "source": [
    "data.split(n_folds=2)\n",
    "evaluate(svd, data, measures=['RMSE', 'MAE'])"
   ]
  },
  {
   "cell_type": "code",
   "execution_count": 52,
   "metadata": {
    "scrolled": false
   },
   "outputs": [
    {
     "data": {
      "text/plain": [
       "<surprise.prediction_algorithms.matrix_factorization.SVD at 0x1eefc51b978>"
      ]
     },
     "execution_count": 52,
     "metadata": {},
     "output_type": "execute_result"
    }
   ],
   "source": [
    "trainset = data.build_full_trainset()\n",
    "svd.fit(trainset)"
   ]
  },
  {
   "cell_type": "code",
   "execution_count": 57,
   "metadata": {
    "collapsed": true,
    "scrolled": false
   },
   "outputs": [],
   "source": [
    "# save the trained SVD model\n",
    "dump.dump(data_path + 'svd', algo=svd)"
   ]
  },
  {
   "cell_type": "code",
   "execution_count": 31,
   "metadata": {
    "collapsed": true,
    "scrolled": false
   },
   "outputs": [],
   "source": [
    "# load the saved SVD model - (predictions, algo)\n",
    "svd = dump.load(data_path + 'svd')[1]"
   ]
  },
  {
   "cell_type": "code",
   "execution_count": 7,
   "metadata": {
    "scrolled": true
   },
   "outputs": [
    {
     "data": {
      "text/plain": [
       "\"\\nUsers Ratings need to be in a -2 - 3 scale. Bad ratings should count 'against' recs\\n\""
      ]
     },
     "execution_count": 7,
     "metadata": {},
     "output_type": "execute_result"
    }
   ],
   "source": [
    "'''\n",
    "Users Ratings need to be in a -2 - 3 scale. Bad ratings should count 'against' recs\n",
    "'''"
   ]
  },
  {
   "cell_type": "code",
   "execution_count": 93,
   "metadata": {
    "collapsed": true,
    "scrolled": true
   },
   "outputs": [],
   "source": [
    "# new user - likes fantasy\n",
    "q = np.zeros((10000), dtype = np.int)\n",
    "q[19-1] = 2.0 # LOTR 1\n",
    "q[155-1] = 2.0 # LOTR 2\n",
    "q[161-1] = 2.0 # LOTR 3\n",
    "q[7-1] = 2.0 # Hobbit\n",
    "q[611-1] = 2.0 #Silmarillion\n",
    "q[189-1] = 2.0 #LOTR boxed set\n",
    "q[135-1] = 2.0 #GOT\n",
    "q[188-1] = 2.0 #GOT\n",
    "q[330-1] = 2.0 #WOT\n",
    "q[510-1] = 2.0 #WOT"
   ]
  },
  {
   "cell_type": "code",
   "execution_count": 95,
   "metadata": {
    "collapsed": true,
    "scrolled": true
   },
   "outputs": [],
   "source": [
    "# new user - likes sci-fi and mystery, hates fantasy\n",
    "q = np.zeros((10000), dtype = np.int)\n",
    "q[126-1] = 2.0 # Dune\n",
    "q[70-1] = 2.0 # Enders Game\n",
    "q[503-1] = 2.0 # Space Odyssey\n",
    "\n",
    "q[514-1] = 2.0 # Sherlock Holmens\n",
    "q[672-1] = 2.0 # Orient Express\n",
    "q[200-1] = 2.0 # And then there were none\n",
    "\n",
    "q[19-1] = -2.0 # LOTR 1\n",
    "q[155-1] = -2.0 # LOTR 2\n",
    "q[161-1] = -2.0 # LOTR 3\n",
    "q[7-1] = -2.0 # Hobbit"
   ]
  },
  {
   "cell_type": "code",
   "execution_count": 8,
   "metadata": {
    "collapsed": true,
    "scrolled": false
   },
   "outputs": [],
   "source": [
    "# user from goodreads\n",
    "q = np.load('../.tmp/user_vector.npy')\n",
    "\n",
    "# Turn 1-5 rating scale into negative - positive scale\n",
    "ratings_mapper = {0:0, 1:-2, 2:-1, 3:1, 4:2, 5:3}\n",
    "for i in range(len(q)):\n",
    "    q[i] = ratings_mapper[q[i]]\n",
    "\n",
    "# for i in range(len(q)):\n",
    "#     if q[i] != 0:\n",
    "#         title = books.iloc[i]['title']\n",
    "#         print(\"%s --> %s\" % (q[i], title))"
   ]
  },
  {
   "cell_type": "code",
   "execution_count": 99,
   "metadata": {
    "scrolled": true
   },
   "outputs": [
    {
     "data": {
      "text/plain": [
       "(10000, 100)"
      ]
     },
     "execution_count": 99,
     "metadata": {},
     "output_type": "execute_result"
    }
   ],
   "source": [
    "# r^ui = μ + bu + bi + qTipu\n",
    "V = svd.qi\n",
    "V.shape"
   ]
  },
  {
   "cell_type": "code",
   "execution_count": 100,
   "metadata": {
    "scrolled": false
   },
   "outputs": [
    {
     "name": "stdout",
     "output_type": "stream",
     "text": [
      "Cryptonomicon\n",
      "Eat, Pray, Love\n",
      "Anne of Green Gables (Anne of Green Gables, #1)\n",
      "The Sisterhood of the Traveling Pants (Sisterhood, #1)\n",
      "Twilight (Twilight, #1)\n",
      "The Left Hand of Darkness\n",
      "Yes Please\n",
      "Before I Go to Sleep\n",
      "Fahrenheit 451\n",
      "Divine Secrets of the Ya-Ya Sisterhood\n",
      "The One (The Selection, #3)\n",
      "Safe Haven\n",
      "The Plague\n",
      "The Da Vinci Code (Robert Langdon, #2)\n",
      "The Remains of the Day\n",
      "It\n",
      "Three Cups of Tea: One Man's Mission to Promote Peace ... One School at a Time\n",
      "Eclipse (Twilight, #3)\n",
      "The Tommyknockers\n",
      "The Shadow of the Wind (The Cemetery of Forgotten Books,  #1)\n",
      "The Nightingale\n",
      "Bag of Bones\n",
      "Olivia\n",
      "The White Queen (The Plantagenet and Tudor Novels, #2)\n",
      "Treasure Island\n"
     ]
    }
   ],
   "source": [
    "recs = get_top_n_recs(map_user(q, svd.qi), books, 25, q)\n",
    "for r in recs:\n",
    "    print(r)"
   ]
  },
  {
   "cell_type": "code",
   "execution_count": 9,
   "metadata": {
    "scrolled": true
   },
   "outputs": [
    {
     "data": {
      "text/plain": [
       "'\\n\\nUse Item Matrix to get recs for new user\\n\\n'"
      ]
     },
     "execution_count": 9,
     "metadata": {},
     "output_type": "execute_result"
    }
   ],
   "source": [
    "'''\n",
    "\n",
    "Use Item Matrix to get recs for new user\n",
    "\n",
    "'''"
   ]
  },
  {
   "cell_type": "code",
   "execution_count": 10,
   "metadata": {
    "scrolled": true
   },
   "outputs": [
    {
     "data": {
      "text/plain": [
       "(10000, 120)"
      ]
     },
     "execution_count": 10,
     "metadata": {},
     "output_type": "execute_result"
    }
   ],
   "source": [
    "# Load in item_matrix (concepts and features) and test recs\n",
    "filename = '../.tmp/item_matrix.npy'\n",
    "item_matrix = np.load(filename)\n",
    "item_matrix.shape"
   ]
  },
  {
   "cell_type": "code",
   "execution_count": 11,
   "metadata": {
    "scrolled": true
   },
   "outputs": [
    {
     "name": "stdout",
     "output_type": "stream",
     "text": [
      "A Wrinkle in Time (A Wrinkle in Time Quintet, #1)\n",
      "Slaughterhouse-Five\n",
      "Fahrenheit 451\n",
      "A Wizard of Earthsea (Earthsea Cycle, #1)\n",
      "Alice's Adventures in Wonderland & Through the Looking-Glass\n",
      "Flowers for Algernon\n",
      "A Wind in the Door (A Wrinkle in Time Quintet, #2)\n",
      "Little Women (Little Women, #1)\n",
      "Alice in Wonderland\n",
      "Grendel\n",
      "Dandelion Wine (Green Town, #1)\n",
      "The Lovely Bones\n",
      "Many Waters (A Wrinkle in Time Quintet, #4)\n",
      "Tuck Everlasting\n",
      "A Swiftly Tilting Planet (A Wrinkle in Time Quintet, #3)\n",
      "The Horse and His Boy (Chronicles of Narnia, #5)\n",
      "The Grapes of Wrath\n",
      "The Neverending Story\n",
      "The Handmaid's Tale\n",
      "The Silver Chair (Chronicles of Narnia, #4)\n",
      "An Acceptable Time (A Wrinkle in Time Quintet, #5)\n",
      "Howl's Moving Castle (Howl's Moving Castle, #1)\n",
      "The Bone Clocks\n",
      "The Secret Garden\n",
      "The Earthsea Trilogy\n"
     ]
    }
   ],
   "source": [
    "recs = get_top_n_recs(map_user(q, item_matrix), books, 25, q)\n",
    "for r in recs:\n",
    "    print(r)"
   ]
  },
  {
   "cell_type": "code",
   "execution_count": 12,
   "metadata": {
    "scrolled": true
   },
   "outputs": [
    {
     "data": {
      "text/plain": [
       "'\\n\\nUse Just part of Item Matrix for Recs\\n\\n'"
      ]
     },
     "execution_count": 12,
     "metadata": {},
     "output_type": "execute_result"
    }
   ],
   "source": [
    "'''\n",
    "\n",
    "Use Just part of Item Matrix for Recs\n",
    "\n",
    "'''"
   ]
  },
  {
   "cell_type": "code",
   "execution_count": 17,
   "metadata": {
    "scrolled": true
   },
   "outputs": [
    {
     "name": "stdout",
     "output_type": "stream",
     "text": [
      "The Da Vinci Code (Robert Langdon, #2)\n",
      "The Help\n",
      "Twilight (Twilight, #1)\n",
      "Angels & Demons  (Robert Langdon, #1)\n",
      "Fahrenheit 451\n",
      "Memoirs of a Geisha\n",
      "Little Women (Little Women, #1)\n",
      "Life of Pi\n",
      "The Lovely Bones\n",
      "Water for Elephants\n"
     ]
    }
   ],
   "source": [
    "recs = get_top_n_recs(map_user(q, item_matrix[:,0:20]), books, 10, q)\n",
    "for r in recs:\n",
    "    print(r)"
   ]
  },
  {
   "cell_type": "code",
   "execution_count": 14,
   "metadata": {
    "scrolled": true
   },
   "outputs": [
    {
     "data": {
      "text/plain": [
       "'\\n\\nUse Feature Matrix for Recs\\n\\n'"
      ]
     },
     "execution_count": 14,
     "metadata": {},
     "output_type": "execute_result"
    }
   ],
   "source": [
    "'''\n",
    "\n",
    "Use Feature Matrix for Recs\n",
    "\n",
    "'''"
   ]
  },
  {
   "cell_type": "code",
   "execution_count": 15,
   "metadata": {
    "scrolled": true
   },
   "outputs": [
    {
     "name": "stdout",
     "output_type": "stream",
     "text": [
      "feature_matrix exists in file...\n"
     ]
    },
    {
     "data": {
      "text/plain": [
       "(10000, 82203)"
      ]
     },
     "execution_count": 15,
     "metadata": {},
     "output_type": "execute_result"
    }
   ],
   "source": [
    "# produce feature matrix\n",
    "feature_matrix = get_book_features(books)\n",
    "feature_matrix.shape"
   ]
  },
  {
   "cell_type": "code",
   "execution_count": 16,
   "metadata": {
    "scrolled": true
   },
   "outputs": [
    {
     "name": "stdout",
     "output_type": "stream",
     "text": [
      "A Wrinkle in Time (A Wrinkle in Time Quintet, #1)\n",
      "Grendel\n",
      "A Wizard of Earthsea (Earthsea Cycle, #1)\n",
      "Dandelion Wine (Green Town, #1)\n",
      "A Wind in the Door (A Wrinkle in Time Quintet, #2)\n",
      "Many Waters (A Wrinkle in Time Quintet, #4)\n",
      "An Acceptable Time (A Wrinkle in Time Quintet, #5)\n",
      "The Earthsea Trilogy\n",
      "A Swiftly Tilting Planet (A Wrinkle in Time Quintet, #3)\n",
      "Slaughterhouse-Five\n",
      "Flowers for Algernon\n",
      "Tuck Everlasting\n",
      "The Bone Clocks\n",
      "Alice in Wonderland\n",
      "The Neverending Story\n",
      "Alice's Adventures in Wonderland & Through the Looking-Glass\n",
      "Howl's Moving Castle (Howl's Moving Castle, #1)\n",
      "The Lost World (Professor Challenger, #1)\n",
      "Brave New World Revisited \n",
      "Alice's Adventures in Wonderland\n",
      "Through the Looking-Glass, and What Alice Found There\n",
      "Brave New World / Brave New World Revisited\n",
      "The Horse and His Boy (Chronicles of Narnia, #5)\n",
      "The Buried Giant\n",
      "Journey to the Center of the Earth (Extraordinary Voyages, #3)\n"
     ]
    }
   ],
   "source": [
    "recs = get_top_n_recs(map_user_sparse(q, feature_matrix), books, 25, q)\n",
    "for r in recs:\n",
    "    print(r)"
   ]
  },
  {
   "cell_type": "code",
   "execution_count": null,
   "metadata": {
    "collapsed": true,
    "scrolled": true
   },
   "outputs": [],
   "source": []
  },
  {
   "cell_type": "code",
   "execution_count": null,
   "metadata": {
    "collapsed": true,
    "scrolled": true
   },
   "outputs": [],
   "source": []
  }
 ],
 "metadata": {
  "kernelspec": {
   "display_name": "Python 3",
   "language": "python",
   "name": "python3"
  },
  "language_info": {
   "codemirror_mode": {
    "name": "ipython",
    "version": 3
   },
   "file_extension": ".py",
   "mimetype": "text/x-python",
   "name": "python",
   "nbconvert_exporter": "python",
   "pygments_lexer": "ipython3",
   "version": "3.6.3"
  }
 },
 "nbformat": 4,
 "nbformat_minor": 2
}
