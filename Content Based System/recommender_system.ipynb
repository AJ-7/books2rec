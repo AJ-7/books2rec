{
 "cells": [
  {
   "cell_type": "code",
   "execution_count": 2,
   "metadata": {
    "collapsed": true
   },
   "outputs": [],
   "source": [
    "import os\n",
    "import html\n",
    "import re\n",
    "import numpy as np\n",
    "import pandas as pd\n",
    "import scipy\n",
    "from sklearn.feature_extraction.text import TfidfVectorizer, CountVectorizer\n",
    "from sklearn.metrics.pairwise import linear_kernel, cosine_similarity\n",
    "from sklearn.decomposition import TruncatedSVD\n",
    "\n",
    "# Custom libraries - must be in same directory\n",
    "import xml_to_dict\n",
    "import get_book_tags\n",
    "import get_bookid_mapper"
   ]
  },
  {
   "cell_type": "code",
   "execution_count": 195,
   "metadata": {
    "collapsed": true
   },
   "outputs": [],
   "source": [
    "# Set this to where you save and load all data\n",
    "data_path = '../../goodbooks-10k/'"
   ]
  },
  {
   "cell_type": "code",
   "execution_count": 3,
   "metadata": {
    "collapsed": true
   },
   "outputs": [],
   "source": [
    "def clean_string(s):\n",
    "    # often times a book will be missing a feature so we have to return if None\n",
    "    if not s:\n",
    "        return s\n",
    "    \n",
    "    # clean html\n",
    "    TAG_RE = re.compile(r'<[^>]+>')\n",
    "    s = html.unescape(s)\n",
    "    s = TAG_RE.sub('', s)\n",
    "    s = s.lower()\n",
    "    return s"
   ]
  },
  {
   "cell_type": "code",
   "execution_count": 124,
   "metadata": {
    "collapsed": true
   },
   "outputs": [],
   "source": [
    "# Function that takes in book feature similarity matrices as input and outputs most similar book\n",
    "def get_recommendations(df, indices, title, similarities, weights):\n",
    "    \n",
    "    # Get the index of the book that matches the title\n",
    "    idx = indices[title]\n",
    "    idx -= 1\n",
    "    \n",
    "    # Get the total number of books\n",
    "    num_books = len(similarities[0])\n",
    "\n",
    "    # Get the pairwsie similarity scores of all books with that book\n",
    "    similarity_scores = []\n",
    "    for similarity in similarities:\n",
    "        similarity_scores.append(list(enumerate(similarity[idx])))\n",
    "    \n",
    "    # Sum and average the similarity scores of the three feature sets to get true similarity\n",
    "    sim_scores = []\n",
    "    for i in range(num_books):  \n",
    "        book_id = similarity_scores[0][i][0]\n",
    "        \n",
    "        score = 0\n",
    "        for j in range(len(weights)):\n",
    "            score += (similarity_scores[j][i][1] * weights[j])\n",
    "            \n",
    "        sim_scores.append((book_id, score))\n",
    "        \n",
    "    # Sort the books based on the highest similarity scores first\n",
    "    sim_scores = sorted(sim_scores, key=lambda x: x[1], reverse=True)\n",
    "\n",
    "    # Get the scores of the N most similar books\n",
    "    N = 20\n",
    "    sim_scores = sim_scores[0:N]\n",
    "\n",
    "    # Get the book indices\n",
    "    book_indices = [i[0] for i in sim_scores]\n",
    "\n",
    "    # Return the top 10 most similar books\n",
    "    return df['title'].iloc[book_indices]"
   ]
  },
  {
   "cell_type": "code",
   "execution_count": 8,
   "metadata": {
    "collapsed": true
   },
   "outputs": [],
   "source": [
    "# Read in book metadata and store in a dictionary\n",
    "def get_books(metadata_directory, goodreads_to_bookid, book_tags):\n",
    "    books = []\n",
    "    for file in os.listdir(metadata_directory):\n",
    "        filename = metadata_directory + '/' + os.fsdecode(file)\n",
    "        raw_book, popular_shelves = xml_to_dict.dict_from_xml_file(filename)\n",
    "\n",
    "        book = {}\n",
    "        goodreads_id = raw_book['book']['id']\n",
    "        book['id'] = goodreads_to_bookid[goodreads_id]\n",
    "        book['title'] = raw_book['book']['title']\n",
    "        book['author'] = raw_book['book']['authors']['author']\n",
    "        \n",
    "        # if multiple authors, only use first (main) author\n",
    "        if isinstance(book['author'], dict):\n",
    "            book['author'] = book['author']['name']\n",
    "        else:\n",
    "            book['author'] = book['author'][0]['name']\n",
    "\n",
    "        book['description'] = raw_book['book']['description']\n",
    "        book['description'] = clean_string(book['description'])\n",
    "\n",
    "        # Turn popular shelves into soup\n",
    "        book['popular_shelves'] = ''\n",
    "        normalizing_value = 5\n",
    "        for key,value in popular_shelves.items():\n",
    "            for i in range(int(value) // normalizing_value):\n",
    "                book['popular_shelves'] += ' ' + key\n",
    "        \n",
    "        # Turn book tags into soup\n",
    "        book['tags'] = ''\n",
    "        tags = book_tags[goodreads_id]\n",
    "        for key,value in tags.items():\n",
    "            for i in range(int(value) // normalizing_value):\n",
    "                book['tags'] += ' ' + key\n",
    "\n",
    "        books.append(book)\n",
    "    return books"
   ]
  },
  {
   "cell_type": "code",
   "execution_count": 9,
   "metadata": {
    "collapsed": true
   },
   "outputs": [],
   "source": [
    "# Read in mapper and book tags\n",
    "goodreads_to_bookid = get_bookid_mapper.get_mapper(data_path + 'books.csv')\n",
    "book_tags = get_book_tags.get_tags(data_path + 'book_tags_with_bookid.csv', data_path + 'tags.csv')"
   ]
  },
  {
   "cell_type": "code",
   "execution_count": 10,
   "metadata": {},
   "outputs": [
    {
     "data": {
      "text/plain": [
       "10000"
      ]
     },
     "execution_count": 10,
     "metadata": {},
     "output_type": "execute_result"
    }
   ],
   "source": [
    "# Get books as dictionary of all its features\n",
    "metadata_directory = data_path + 'books_xml/books_xml'\n",
    "books = get_books(metadata_directory, goodreads_to_bookid, book_tags)\n",
    "len(books)"
   ]
  },
  {
   "cell_type": "code",
   "execution_count": 196,
   "metadata": {},
   "outputs": [
    {
     "data": {
      "text/html": [
       "<div>\n",
       "<style>\n",
       "    .dataframe thead tr:only-child th {\n",
       "        text-align: right;\n",
       "    }\n",
       "\n",
       "    .dataframe thead th {\n",
       "        text-align: left;\n",
       "    }\n",
       "\n",
       "    .dataframe tbody tr th {\n",
       "        vertical-align: top;\n",
       "    }\n",
       "</style>\n",
       "<table border=\"1\" class=\"dataframe\">\n",
       "  <thead>\n",
       "    <tr style=\"text-align: right;\">\n",
       "      <th></th>\n",
       "      <th>author</th>\n",
       "      <th>description</th>\n",
       "      <th>popular_shelves</th>\n",
       "      <th>tags</th>\n",
       "      <th>title</th>\n",
       "    </tr>\n",
       "    <tr>\n",
       "      <th>id</th>\n",
       "      <th></th>\n",
       "      <th></th>\n",
       "      <th></th>\n",
       "      <th></th>\n",
       "      <th></th>\n",
       "    </tr>\n",
       "  </thead>\n",
       "  <tbody>\n",
       "    <tr>\n",
       "      <th>1</th>\n",
       "      <td>Suzanne Collins</td>\n",
       "      <td>winning will make you famous. losing means cer...</td>\n",
       "      <td>young-adult young-adult young-adult young-adu...</td>\n",
       "      <td>young-adult young-adult young-adult young-adu...</td>\n",
       "      <td>The Hunger Games (The Hunger Games, #1)</td>\n",
       "    </tr>\n",
       "    <tr>\n",
       "      <th>2</th>\n",
       "      <td>J.K. Rowling</td>\n",
       "      <td>harry potter's life is miserable. his parents ...</td>\n",
       "      <td>fantasy fantasy fantasy fantasy fantasy fanta...</td>\n",
       "      <td>fantasy fantasy fantasy fantasy fantasy fanta...</td>\n",
       "      <td>Harry Potter and the Sorcerer's Stone (Harry P...</td>\n",
       "    </tr>\n",
       "    <tr>\n",
       "      <th>3</th>\n",
       "      <td>Stephenie Meyer</td>\n",
       "      <td>about three things i was absolutely positive.f...</td>\n",
       "      <td>young-adult young-adult young-adult young-adu...</td>\n",
       "      <td>young-adult young-adult young-adult young-adu...</td>\n",
       "      <td>Twilight (Twilight, #1)</td>\n",
       "    </tr>\n",
       "    <tr>\n",
       "      <th>4</th>\n",
       "      <td>Harper Lee</td>\n",
       "      <td>the unforgettable novel of a childhood in a sl...</td>\n",
       "      <td>classics classics classics classics classics ...</td>\n",
       "      <td>classics classics classics classics classics ...</td>\n",
       "      <td>To Kill a Mockingbird</td>\n",
       "    </tr>\n",
       "    <tr>\n",
       "      <th>5</th>\n",
       "      <td>F. Scott Fitzgerald</td>\n",
       "      <td>the great gatsby, f. scott fitzgerald’s third ...</td>\n",
       "      <td>classics classics classics classics classics ...</td>\n",
       "      <td>classics classics classics classics classics ...</td>\n",
       "      <td>The Great Gatsby</td>\n",
       "    </tr>\n",
       "  </tbody>\n",
       "</table>\n",
       "</div>"
      ],
      "text/plain": [
       "                 author                                        description  \\\n",
       "id                                                                           \n",
       "1       Suzanne Collins  winning will make you famous. losing means cer...   \n",
       "2          J.K. Rowling  harry potter's life is miserable. his parents ...   \n",
       "3       Stephenie Meyer  about three things i was absolutely positive.f...   \n",
       "4            Harper Lee  the unforgettable novel of a childhood in a sl...   \n",
       "5   F. Scott Fitzgerald  the great gatsby, f. scott fitzgerald’s third ...   \n",
       "\n",
       "                                      popular_shelves  \\\n",
       "id                                                      \n",
       "1    young-adult young-adult young-adult young-adu...   \n",
       "2    fantasy fantasy fantasy fantasy fantasy fanta...   \n",
       "3    young-adult young-adult young-adult young-adu...   \n",
       "4    classics classics classics classics classics ...   \n",
       "5    classics classics classics classics classics ...   \n",
       "\n",
       "                                                 tags  \\\n",
       "id                                                      \n",
       "1    young-adult young-adult young-adult young-adu...   \n",
       "2    fantasy fantasy fantasy fantasy fantasy fanta...   \n",
       "3    young-adult young-adult young-adult young-adu...   \n",
       "4    classics classics classics classics classics ...   \n",
       "5    classics classics classics classics classics ...   \n",
       "\n",
       "                                                title  \n",
       "id                                                     \n",
       "1             The Hunger Games (The Hunger Games, #1)  \n",
       "2   Harry Potter and the Sorcerer's Stone (Harry P...  \n",
       "3                             Twilight (Twilight, #1)  \n",
       "4                               To Kill a Mockingbird  \n",
       "5                                    The Great Gatsby  "
      ]
     },
     "execution_count": 196,
     "metadata": {},
     "output_type": "execute_result"
    }
   ],
   "source": [
    "df = pd.DataFrame(books)\n",
    "df['id'] = df['id'].astype(int)\n",
    "df = df.sort_values(by=['id'])\n",
    "df = df.set_index('id')\n",
    "df.head()"
   ]
  },
  {
   "cell_type": "code",
   "execution_count": 52,
   "metadata": {},
   "outputs": [],
   "source": [
    "#Construct a reverse map of indices and book titles\n",
    "indices = pd.Series(df.index, index=df['title']).drop_duplicates()\n",
    "\n",
    "#Replace NaN with an empty string\n",
    "df['description'] = df['description'].fillna('')"
   ]
  },
  {
   "cell_type": "code",
   "execution_count": 53,
   "metadata": {},
   "outputs": [
    {
     "data": {
      "text/plain": [
       "3888"
      ]
     },
     "execution_count": 53,
     "metadata": {},
     "output_type": "execute_result"
    }
   ],
   "source": [
    "# Count unique authors\n",
    "df['author'].nunique()"
   ]
  },
  {
   "cell_type": "code",
   "execution_count": 54,
   "metadata": {
    "collapsed": true
   },
   "outputs": [],
   "source": [
    "# Vectorize the features\n",
    "tfidf = TfidfVectorizer(stop_words='english')\n",
    "\n",
    "tfidf_matrix_description = tfidf.fit_transform(df['description'])\n",
    "tfidf_matrix_shelves = tfidf.fit_transform(df['popular_shelves'])\n",
    "tfidf_matrix_tags = tfidf.fit_transform(df['tags'])\n",
    "\n",
    "# Use pandas and scipy to make sparse sim matrix for authors\n",
    "count_matrix_author = pd.get_dummies(df['author'])\n",
    "count_matrix_author = scipy.sparse.csr_matrix(count_matrix_author.values)\n",
    "\n",
    "# Compute the cosine similarity matrix for the features we want\n",
    "cosine_sim_description = cosine_similarity(tfidf_matrix_description, tfidf_matrix_description)\n",
    "cosine_sim_shelves = cosine_similarity(tfidf_matrix_shelves, tfidf_matrix_shelves)\n",
    "cosine_sim_tags = cosine_similarity(tfidf_matrix_tags, tfidf_matrix_tags)\n",
    "cosine_sim_author = cosine_similarity(count_matrix_author, count_matrix_author)"
   ]
  },
  {
   "cell_type": "code",
   "execution_count": 187,
   "metadata": {},
   "outputs": [
    {
     "data": {
      "text/plain": [
       "id\n",
       "1938    Charlie and the Great Glass Elevator (Charlie ...\n",
       "416                                           The Witches\n",
       "1662                                    Fantastic Mr. Fox\n",
       "335                             James and the Giant Peach\n",
       "2123                         George's Marvellous Medicine\n",
       "2741                      Danny the Champion of the World\n",
       "373                                               The BFG\n",
       "5311                                            Esio Trot\n",
       "8192                     The Giraffe and the Pelly and Me\n",
       "6097    The Magic Finger (Young Puffin Developing Reader)\n",
       "1497                    The Borrowers (The Borrowers, #1)\n",
       "1373    The Indian in the Cupboard (The Indian in the ...\n",
       "158     Charlie and the Chocolate Factory (Charlie Buc...\n",
       "8753    The Castle in the Attic (The Castle in the Att...\n",
       "8856    Mrs. Piggle-Wiggle's Magic (Mrs. Piggle Wiggle...\n",
       "9661    Hello, Mrs. Piggle-Wiggle (Mrs. Piggle Wiggle,...\n",
       "1545       The House at Pooh Corner (Winnie-the-Pooh, #2)\n",
       "59                                        Charlotte's Web\n",
       "8161                              Pippi in the South Seas\n",
       "1707                 Harriet the Spy (Harriet the Spy #1)\n",
       "Name: title, dtype: object"
      ]
     },
     "execution_count": 187,
     "metadata": {},
     "output_type": "execute_result"
    }
   ],
   "source": [
    "# Get recs using seperate sim matrices\n",
    "title = 'Charlie and the Great Glass Elevator (Charlie Bucket, #2)'\n",
    "\n",
    "similarities = [cosine_sim_description, cosine_sim_shelves, cosine_sim_tags, cosine_sim_author]\n",
    "weights = [1, 1, 1, 0]\n",
    "recs = get_recommendations(df, indices, title, similarities, weights)\n",
    "recs"
   ]
  },
  {
   "cell_type": "code",
   "execution_count": 56,
   "metadata": {},
   "outputs": [
    {
     "data": {
      "text/plain": [
       "(10000, 82203)"
      ]
     },
     "execution_count": 56,
     "metadata": {},
     "output_type": "execute_result"
    }
   ],
   "source": [
    "# Append all feature matrices together\n",
    "feature_matrix = scipy.sparse.hstack([tfidf_matrix_description, tfidf_matrix_shelves, tfidf_matrix_tags])\n",
    "feature_matrix.shape"
   ]
  },
  {
   "cell_type": "code",
   "execution_count": 57,
   "metadata": {
    "collapsed": true
   },
   "outputs": [],
   "source": [
    "# Reduce the dimensions of the combined feature matrix\n",
    "svd = TruncatedSVD(n_components=1000, n_iter=7, random_state=42)\n",
    "feature_matrix_reduced = svd.fit_transform(feature_matrix)"
   ]
  },
  {
   "cell_type": "code",
   "execution_count": 67,
   "metadata": {},
   "outputs": [],
   "source": [
    "# Compute the cosine similarity matrix for the combined and reduced features\n",
    "cosine_sim_features = cosine_similarity(feature_matrix_reduced, feature_matrix_reduced)"
   ]
  },
  {
   "cell_type": "code",
   "execution_count": 173,
   "metadata": {},
   "outputs": [
    {
     "data": {
      "text/plain": [
       "id\n",
       "9670                           Trump: The Art of the Deal\n",
       "4803    The Everything Store: Jeff Bezos and the Age o...\n",
       "8855               Screw It, Let's Do It: Lessons In Life\n",
       "7628    Onward: How Starbucks Fought for Its Life with...\n",
       "7547    Competitive Strategy: Techniques for Analyzing...\n",
       "8179    In Search of Excellence: Lessons from America'...\n",
       "3882    The $100 Startup: Reinvent the Way You Make a ...\n",
       "3661    The Innovator's Dilemma: The Revolutionary Boo...\n",
       "2220    Built to Last: Successful Habits of Visionary ...\n",
       "2442                                              Winning\n",
       "1926    Made to Stick: Why Some Ideas Survive and Othe...\n",
       "6583            Shoe Dog: A Memoir by the Creator of NIKE\n",
       "7693                                     How Google Works\n",
       "2388    Delivering Happiness: A Path to Profits, Passi...\n",
       "9529    EntreLeadership: 20 Years of Practical Busines...\n",
       "5713    Crush It!: Why Now Is the Time to Cash In on Y...\n",
       "7581         The Personal MBA: Master the Art of Business\n",
       "2686    Blue Ocean Strategy: How To Create Uncontested...\n",
       "4536    Losing My Virginity: How I've Survived, Had Fu...\n",
       "8046    To Sell Is Human: The Surprising Truth About M...\n",
       "Name: title, dtype: object"
      ]
     },
     "execution_count": 173,
     "metadata": {},
     "output_type": "execute_result"
    }
   ],
   "source": [
    "# Get recs using the reduced combined feature matrix\n",
    "similarities_features = [cosine_sim_features]\n",
    "weights_features = [1]\n",
    "recs_features = get_recommendations(df, indices, title, similarities_features, weights_features)\n",
    "recs_features"
   ]
  },
  {
   "cell_type": "code",
   "execution_count": 197,
   "metadata": {},
   "outputs": [
    {
     "data": {
      "text/plain": [
       "(10000, 1000)"
      ]
     },
     "execution_count": 197,
     "metadata": {},
     "output_type": "execute_result"
    }
   ],
   "source": [
    "# Save reduced feature matrix\n",
    "filename = data_path + 'feature_matrix_reduced.npy'\n",
    "np.save(filename, feature_matrix_reduced)\n",
    "feature_matrix_reduced.shape"
   ]
  },
  {
   "cell_type": "code",
   "execution_count": 198,
   "metadata": {},
   "outputs": [
    {
     "data": {
      "text/plain": [
       "(10000, 1100)"
      ]
     },
     "execution_count": 198,
     "metadata": {},
     "output_type": "execute_result"
    }
   ],
   "source": [
    "# Load in item_matrix (concepts and features) and test recs\n",
    "filename = data_path + 'item_matrix.npy'\n",
    "item_matrix = np.load(filename)\n",
    "item_matrix.shape"
   ]
  },
  {
   "cell_type": "code",
   "execution_count": 190,
   "metadata": {
    "collapsed": true
   },
   "outputs": [],
   "source": [
    "# Compute the cosine similarity matrix for the item matrix\n",
    "cosine_sim_item_matrix = cosine_similarity(item_matrix)"
   ]
  },
  {
   "cell_type": "code",
   "execution_count": 180,
   "metadata": {},
   "outputs": [],
   "source": [
    "# Save similarity matrix using the item_matrix (joined matrices from ratings and features)\n",
    "filename = data_path + 'similarity_matrix.npy'\n",
    "np.save(filename, cosine_sim_item_matrix)"
   ]
  },
  {
   "cell_type": "code",
   "execution_count": 191,
   "metadata": {},
   "outputs": [
    {
     "data": {
      "text/plain": [
       "id\n",
       "1938    Charlie and the Great Glass Elevator (Charlie ...\n",
       "1662                                    Fantastic Mr. Fox\n",
       "373                                               The BFG\n",
       "335                             James and the Giant Peach\n",
       "2123                         George's Marvellous Medicine\n",
       "416                                           The Witches\n",
       "2741                      Danny the Champion of the World\n",
       "8192                     The Giraffe and the Pelly and Me\n",
       "5311                                            Esio Trot\n",
       "6097    The Magic Finger (Young Puffin Developing Reader)\n",
       "6959                   Runaway Ralph (Ralph S. Mouse, #2)\n",
       "1497                    The Borrowers (The Borrowers, #1)\n",
       "2976                        Ramona the Brave (Ramona, #3)\n",
       "1373    The Indian in the Cupboard (The Indian in the ...\n",
       "8161                              Pippi in the South Seas\n",
       "9974            Anastasia Krupnik (Anastasia Krupnik, #1)\n",
       "1916    The Mouse and the Motorcycle (Ralph S. Mouse, #1)\n",
       "3100                               How to Eat Fried Worms\n",
       "158     Charlie and the Chocolate Factory (Charlie Buc...\n",
       "2315                              The Trumpet of the Swan\n",
       "Name: title, dtype: object"
      ]
     },
     "execution_count": 191,
     "metadata": {},
     "output_type": "execute_result"
    }
   ],
   "source": [
    "# Get recs using the item matrix (concepts and features)\n",
    "similarities_item_matrix = [cosine_sim_item_matrix]\n",
    "weights_item_matrix = [1]\n",
    "recs_item_matrix = get_recommendations(df, indices, title, similarities_item_matrix, weights_item_matrix)\n",
    "recs_item_matrix"
   ]
  },
  {
   "cell_type": "code",
   "execution_count": 199,
   "metadata": {},
   "outputs": [
    {
     "data": {
      "text/plain": [
       "(10000, 100)"
      ]
     },
     "execution_count": 199,
     "metadata": {},
     "output_type": "execute_result"
    }
   ],
   "source": [
    "# Test just the matrix derived from ratings matrix\n",
    "item_matrix_test = item_matrix[:,0:100]\n",
    "item_matrix_test.shape"
   ]
  },
  {
   "cell_type": "code",
   "execution_count": 200,
   "metadata": {},
   "outputs": [],
   "source": [
    "# Compute the cosine similarity matrix for the collab filtering matrix\n",
    "cosine_sim_test = cosine_similarity(item_matrix_test)"
   ]
  },
  {
   "cell_type": "code",
   "execution_count": 201,
   "metadata": {},
   "outputs": [
    {
     "data": {
      "text/plain": [
       "id\n",
       "1938    Charlie and the Great Glass Elevator (Charlie ...\n",
       "2741                      Danny the Champion of the World\n",
       "1258                                            The Twits\n",
       "1662                                    Fantastic Mr. Fox\n",
       "5311                                            Esio Trot\n",
       "373                                               The BFG\n",
       "8192                     The Giraffe and the Pelly and Me\n",
       "416                                           The Witches\n",
       "7266      The Wonderful Story of Henry Sugar and Six More\n",
       "2620                              Boy: Tales of Childhood\n",
       "6097    The Magic Finger (Young Puffin Developing Reader)\n",
       "7103                                           Going Solo\n",
       "2123                         George's Marvellous Medicine\n",
       "335                             James and the Giant Peach\n",
       "8857                                     Revolting Rhymes\n",
       "184                                               Matilda\n",
       "158     Charlie and the Chocolate Factory (Charlie Buc...\n",
       "7045                            The Story of Tracy Beaker\n",
       "7879                                           Double Act\n",
       "6102            The Enchanted Wood (The Faraway Tree, #1)\n",
       "Name: title, dtype: object"
      ]
     },
     "execution_count": 201,
     "metadata": {},
     "output_type": "execute_result"
    }
   ],
   "source": [
    "similarities_test = [cosine_sim_test]\n",
    "weights_test = [1]\n",
    "recs_test = get_recommendations(df, indices, title, similarities_test, weights_test)\n",
    "recs_test"
   ]
  },
  {
   "cell_type": "code",
   "execution_count": null,
   "metadata": {
    "collapsed": true
   },
   "outputs": [],
   "source": []
  }
 ],
 "metadata": {
  "kernelspec": {
   "display_name": "Python 3",
   "language": "python",
   "name": "python3"
  },
  "language_info": {
   "codemirror_mode": {
    "name": "ipython",
    "version": 3
   },
   "file_extension": ".py",
   "mimetype": "text/x-python",
   "name": "python",
   "nbconvert_exporter": "python",
   "pygments_lexer": "ipython3",
   "version": "3.6.3"
  }
 },
 "nbformat": 4,
 "nbformat_minor": 2
}
