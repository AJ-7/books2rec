{
 "cells": [
  {
   "cell_type": "code",
   "execution_count": 127,
   "metadata": {
    "collapsed": true
   },
   "outputs": [],
   "source": [
    "import os\n",
    "import html\n",
    "import re\n",
    "import pandas as pd\n",
    "from sklearn.feature_extraction.text import TfidfVectorizer, CountVectorizer\n",
    "from sklearn.metrics.pairwise import linear_kernel, cosine_similarity\n",
    "\n",
    "# Custom libraries - must be in same directory\n",
    "import xml_to_dict"
   ]
  },
  {
   "cell_type": "code",
   "execution_count": 126,
   "metadata": {
    "collapsed": true
   },
   "outputs": [],
   "source": [
    "def clean_string(s):\n",
    "    # often times a book will be missing a feature so we have to return if None\n",
    "    if not s:\n",
    "        return s\n",
    "    \n",
    "    # clean html\n",
    "    TAG_RE = re.compile(r'<[^>]+>')\n",
    "    s = html.unescape(s)\n",
    "    s = TAG_RE.sub('', s)\n",
    "    \n",
    "    s = s.lower()\n",
    "    \n",
    "    return s"
   ]
  },
  {
   "cell_type": "code",
   "execution_count": 136,
   "metadata": {
    "collapsed": true
   },
   "outputs": [],
   "source": [
    "# Function that takes in book title as input and outputs most similar book\n",
    "def get_recommendations(df, indices, title, cosine_sim_desc, cosine_sim_shelves, cosine_sim_author):\n",
    "    # Get the index of the book that matches the title\n",
    "    idx = indices[title]\n",
    "\n",
    "    # Get the pairwsie similarity scores of all books with that book\n",
    "    sim_scores_desc = list(enumerate(cosine_sim_desc[idx]))\n",
    "    sim_scores_shelves = list(enumerate(cosine_sim_shelves[idx]))\n",
    "    sim_scores_author = list(enumerate(cosine_sim_author[idx]))\n",
    "    \n",
    "    # Assign weights to each feature\n",
    "    weight_desc = 1\n",
    "    weight_shelves = 1\n",
    "    weight_author = .25\n",
    "    \n",
    "    # Sum and average the similarity scores of the three feature sets to get true similarity\n",
    "    sim_scores = []\n",
    "    for i in range(len(sim_scores_desc)):  \n",
    "        book_id = sim_scores_desc[i][0]\n",
    "        \n",
    "        desc_score = sim_scores_desc[i][1] * weight_desc\n",
    "        shelves_score = sim_scores_shelves[i][1] * weight_shelves\n",
    "        author_score = sim_scores_author[i][1] * weight_author\n",
    "\n",
    "        score = (book_id, (desc_score + shelves_score + author_score) / 3)\n",
    "        sim_scores.append(score)\n",
    "        \n",
    "    # Sort the books based on the similarity scores\n",
    "    sim_scores = sorted(sim_scores, key=lambda x: x[1], reverse=True)\n",
    "\n",
    "    # Get the scores of the N most similar books\n",
    "    N = 20\n",
    "    sim_scores = sim_scores[1:N]\n",
    "\n",
    "    # Get the book indices\n",
    "    book_indices = [i[0] for i in sim_scores]\n",
    "\n",
    "    # Return the top 10 most similar books\n",
    "    return df['title'].iloc[book_indices]"
   ]
  },
  {
   "cell_type": "code",
   "execution_count": 116,
   "metadata": {
    "collapsed": true
   },
   "outputs": [],
   "source": [
    "# Read in book metadata and store in a dictionary\n",
    "def get_books(metadata_directory):\n",
    "    books = []\n",
    "    for file in os.listdir(metadata_directory):\n",
    "        filename = metadata_directory + '/' + os.fsdecode(file)\n",
    "        raw_book, popular_shelves = xml_to_dict.dict_from_xml_file(filename)\n",
    "\n",
    "        book = {}\n",
    "        book['id'] = raw_book['book']['id']\n",
    "        book['title'] = raw_book['book']['title']\n",
    "        book['author'] = raw_book['book']['authors']['author']\n",
    "        if isinstance(book['author'], dict):\n",
    "            book['author'] = book['author']['name']\n",
    "        else:\n",
    "            book['author'] = book['author'][0]['name']\n",
    "\n",
    "        book['description'] = raw_book['book']['description']\n",
    "        book['description'] = clean_string(book['description'])\n",
    "\n",
    "        book['popular_shelves'] = popular_shelves\n",
    "        # Turn popular shelves into soup\n",
    "        soup = ''\n",
    "        normalizing_value = 5\n",
    "        for key,value in popular_shelves.items():\n",
    "            for i in range(int(value) // normalizing_value):\n",
    "                soup += ' ' + key\n",
    "        book['popular_shelves'] = soup\n",
    "\n",
    "        books.append(book)\n",
    "    return books"
   ]
  },
  {
   "cell_type": "code",
   "execution_count": 141,
   "metadata": {},
   "outputs": [
    {
     "data": {
      "text/plain": [
       "10000"
      ]
     },
     "execution_count": 141,
     "metadata": {},
     "output_type": "execute_result"
    }
   ],
   "source": [
    "#TODO - make this path not hardcoded\n",
    "metadata_directory = '../../goodbooks-10k/books_xml/books_xml'\n",
    "books = get_books(metadata_directory)\n",
    "len(books)"
   ]
  },
  {
   "cell_type": "code",
   "execution_count": 142,
   "metadata": {},
   "outputs": [
    {
     "data": {
      "text/html": [
       "<div>\n",
       "<style>\n",
       "    .dataframe thead tr:only-child th {\n",
       "        text-align: right;\n",
       "    }\n",
       "\n",
       "    .dataframe thead th {\n",
       "        text-align: left;\n",
       "    }\n",
       "\n",
       "    .dataframe tbody tr th {\n",
       "        vertical-align: top;\n",
       "    }\n",
       "</style>\n",
       "<table border=\"1\" class=\"dataframe\">\n",
       "  <thead>\n",
       "    <tr style=\"text-align: right;\">\n",
       "      <th></th>\n",
       "      <th>author</th>\n",
       "      <th>description</th>\n",
       "      <th>id</th>\n",
       "      <th>popular_shelves</th>\n",
       "      <th>title</th>\n",
       "    </tr>\n",
       "  </thead>\n",
       "  <tbody>\n",
       "    <tr>\n",
       "      <th>0</th>\n",
       "      <td>J.K. Rowling</td>\n",
       "      <td>the war against voldemort is not going well: e...</td>\n",
       "      <td>1</td>\n",
       "      <td>fantasy fantasy fantasy fantasy fantasy fanta...</td>\n",
       "      <td>Harry Potter and the Half-Blood Prince (Harry ...</td>\n",
       "    </tr>\n",
       "    <tr>\n",
       "      <th>1</th>\n",
       "      <td>J.K. Rowling</td>\n",
       "      <td>six years of magic, adventure, and mystery mak...</td>\n",
       "      <td>10</td>\n",
       "      <td>favorites favorites favorites favorites favor...</td>\n",
       "      <td>Harry Potter Collection (Harry Potter, #1-6)</td>\n",
       "    </tr>\n",
       "    <tr>\n",
       "      <th>2</th>\n",
       "      <td>Paul Auster</td>\n",
       "      <td>the discovery of a mysterious notebook turns a...</td>\n",
       "      <td>10006</td>\n",
       "      <td>fiction fiction fiction fiction fiction ficti...</td>\n",
       "      <td>Oracle Night</td>\n",
       "    </tr>\n",
       "    <tr>\n",
       "      <th>3</th>\n",
       "      <td>Eleanor H. Porter</td>\n",
       "      <td>when orphaned 11-year-old pollyanna comes to l...</td>\n",
       "      <td>1000751</td>\n",
       "      <td>classics classics classics classics classics ...</td>\n",
       "      <td>Pollyanna (Pollyanna, #1)</td>\n",
       "    </tr>\n",
       "    <tr>\n",
       "      <th>4</th>\n",
       "      <td>Jussi Adler-Olsen</td>\n",
       "      <td>indtil for blot 40 år siden blev utilpassede e...</td>\n",
       "      <td>10008056</td>\n",
       "      <td>krimi krimi krimi krimi krimi krimi krimi kri...</td>\n",
       "      <td>Journal 64 (Afdeling Q, #4)</td>\n",
       "    </tr>\n",
       "  </tbody>\n",
       "</table>\n",
       "</div>"
      ],
      "text/plain": [
       "              author                                        description  \\\n",
       "0       J.K. Rowling  the war against voldemort is not going well: e...   \n",
       "1       J.K. Rowling  six years of magic, adventure, and mystery mak...   \n",
       "2        Paul Auster  the discovery of a mysterious notebook turns a...   \n",
       "3  Eleanor H. Porter  when orphaned 11-year-old pollyanna comes to l...   \n",
       "4  Jussi Adler-Olsen  indtil for blot 40 år siden blev utilpassede e...   \n",
       "\n",
       "         id                                    popular_shelves  \\\n",
       "0         1   fantasy fantasy fantasy fantasy fantasy fanta...   \n",
       "1        10   favorites favorites favorites favorites favor...   \n",
       "2     10006   fiction fiction fiction fiction fiction ficti...   \n",
       "3   1000751   classics classics classics classics classics ...   \n",
       "4  10008056   krimi krimi krimi krimi krimi krimi krimi kri...   \n",
       "\n",
       "                                               title  \n",
       "0  Harry Potter and the Half-Blood Prince (Harry ...  \n",
       "1       Harry Potter Collection (Harry Potter, #1-6)  \n",
       "2                                       Oracle Night  \n",
       "3                          Pollyanna (Pollyanna, #1)  \n",
       "4                        Journal 64 (Afdeling Q, #4)  "
      ]
     },
     "execution_count": 142,
     "metadata": {},
     "output_type": "execute_result"
    }
   ],
   "source": [
    "df = pd.DataFrame(books)\n",
    "df.head()"
   ]
  },
  {
   "cell_type": "code",
   "execution_count": null,
   "metadata": {},
   "outputs": [],
   "source": [
    "#Replace NaN with an empty string\n",
    "df['description'] = df['description'].fillna('')\n",
    "\n",
    "# Vectorize the features\n",
    "tfidf = TfidfVectorizer(stop_words='english')\n",
    "count = CountVectorizer(analyzer='word', stop_words='english')\n",
    "\n",
    "tfidf_matrix_description = tfidf.fit_transform(df['description'])\n",
    "tfidf_matrix_shelves = tfidf.fit_transform(df['popular_shelves'])\n",
    "count_matrix_author = count.fit_transform(df['author'])\n",
    "\n",
    "# Compute the cosine similarity matrix for the features we want\n",
    "cosine_sim_description = linear_kernel(tfidf_matrix_description, tfidf_matrix_description)\n",
    "cosine_sim_shelves = linear_kernel(tfidf_matrix_shelves, tfidf_matrix_shelves)\n",
    "cosine_sim_author = cosine_similarity(count_matrix_author, count_matrix_author)\n",
    "\n",
    "#Construct a reverse map of indices and book titles\n",
    "indices = pd.Series(df.index, index=df['title']).drop_duplicates()"
   ]
  },
  {
   "cell_type": "code",
   "execution_count": 152,
   "metadata": {},
   "outputs": [
    {
     "name": "stdout",
     "output_type": "stream",
     "text": [
      "9420                       Of Mice and Men\n",
      "6486                   The Grapes of Wrath\n",
      "6729          The Winter of Our Discontent\n",
      "7051                             The Pearl\n",
      "2507                         Tortilla Flat\n",
      "6731                           Cannery Row\n",
      "9372                          The Red Pony\n",
      "2238                         Paradise Lost\n",
      "1107                      The Moon Is Down\n",
      "1979               Moby-Dick or, The Whale\n",
      "6100                    The Sun Also Rises\n",
      "5181    The Adventures of Huckleberry Finn\n",
      "2613                            My Ántonia\n",
      "3103                          Oliver Twist\n",
      "6652                      The Great Gatsby\n",
      "3448                  A Tale of Two Cities\n",
      "3818               The Old Man and the Sea\n",
      "8427                           Lorna Doone\n",
      "6657                     Uncle Tom's Cabin\n",
      "Name: title, dtype: object\n"
     ]
    }
   ],
   "source": [
    "title = 'East of Eden'\n",
    "recs = get_recommendations(df, indices, title, cosine_sim_description, cosine_sim_shelves, cosine_sim_author)\n",
    "print(recs)"
   ]
  },
  {
   "cell_type": "code",
   "execution_count": null,
   "metadata": {
    "collapsed": true
   },
   "outputs": [],
   "source": []
  }
 ],
 "metadata": {
  "kernelspec": {
   "display_name": "Python 3",
   "language": "python",
   "name": "python3"
  },
  "language_info": {
   "codemirror_mode": {
    "name": "ipython",
    "version": 3
   },
   "file_extension": ".py",
   "mimetype": "text/x-python",
   "name": "python",
   "nbconvert_exporter": "python",
   "pygments_lexer": "ipython3",
   "version": "3.6.3"
  }
 },
 "nbformat": 4,
 "nbformat_minor": 2
}
