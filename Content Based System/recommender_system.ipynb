{
 "cells": [
  {
   "cell_type": "code",
   "execution_count": 1,
   "metadata": {
    "collapsed": true
   },
   "outputs": [],
   "source": [
    "import os\n",
    "import html\n",
    "import re\n",
    "import pandas as pd\n",
    "from sklearn.feature_extraction.text import TfidfVectorizer, CountVectorizer\n",
    "from sklearn.metrics.pairwise import linear_kernel, cosine_similarity\n",
    "\n",
    "# Custom libraries - must be in same directory\n",
    "import xml_to_dict\n",
    "import get_book_tags"
   ]
  },
  {
   "cell_type": "code",
   "execution_count": 2,
   "metadata": {
    "collapsed": true
   },
   "outputs": [],
   "source": [
    "def clean_string(s):\n",
    "    # often times a book will be missing a feature so we have to return if None\n",
    "    if not s:\n",
    "        return s\n",
    "    \n",
    "    # clean html\n",
    "    TAG_RE = re.compile(r'<[^>]+>')\n",
    "    s = html.unescape(s)\n",
    "    s = TAG_RE.sub('', s)\n",
    "    s = s.lower()\n",
    "    return s"
   ]
  },
  {
   "cell_type": "code",
   "execution_count": 32,
   "metadata": {
    "collapsed": true
   },
   "outputs": [],
   "source": [
    "# Function that takes in book feature similarity matrices as input and outputs most similar book\n",
    "def get_recommendations(df, indices, title, similarities, weights):\n",
    "    \n",
    "    # Get the index of the book that matches the title\n",
    "    idx = indices[title]\n",
    "    \n",
    "    # Get the total number of books\n",
    "    num_books = len(similarities[0])\n",
    "\n",
    "    # Get the pairwsie similarity scores of all books with that book\n",
    "    similarity_scores = []\n",
    "    for similarity in similarities:\n",
    "        similarity_scores.append(list(enumerate(similarity[idx])))\n",
    "    \n",
    "    # Sum and average the similarity scores of the three feature sets to get true similarity\n",
    "    sim_scores = []\n",
    "    for i in range(num_books):  \n",
    "        book_id = similarity_scores[0][i][0]\n",
    "        \n",
    "        score = 0\n",
    "        for j in range(len(weights)):\n",
    "            score += (similarity_scores[j][i][1] * weights[j])\n",
    "            \n",
    "        sim_scores.append((book_id, score))\n",
    "        \n",
    "    # Sort the books based on the highest similarity scores first\n",
    "    sim_scores = sorted(sim_scores, key=lambda x: x[1], reverse=True)\n",
    "\n",
    "    # Get the scores of the N most similar books\n",
    "    N = 20\n",
    "    sim_scores = sim_scores[1:N]\n",
    "\n",
    "    # Get the book indices\n",
    "    book_indices = [i[0] for i in sim_scores]\n",
    "\n",
    "    # Return the top 10 most similar books\n",
    "    return df['title'].iloc[book_indices]"
   ]
  },
  {
   "cell_type": "code",
   "execution_count": 4,
   "metadata": {
    "collapsed": true
   },
   "outputs": [],
   "source": [
    "# Read in book metadata and store in a dictionary\n",
    "def get_books(metadata_directory, book_tags_file, tags_file):\n",
    "    book_tags = get_book_tags.get_tags(book_tags_file, tags_file)\n",
    "    books = []\n",
    "    for file in os.listdir(metadata_directory):\n",
    "        filename = metadata_directory + '/' + os.fsdecode(file)\n",
    "        raw_book, popular_shelves = xml_to_dict.dict_from_xml_file(filename)\n",
    "\n",
    "        book = {}\n",
    "        book['id'] = raw_book['book']['id']\n",
    "        book['title'] = raw_book['book']['title']\n",
    "        book['author'] = raw_book['book']['authors']['author']\n",
    "        \n",
    "        # if multiple authors, only use first (main) author\n",
    "        if isinstance(book['author'], dict):\n",
    "            book['author'] = book['author']['name']\n",
    "        else:\n",
    "            book['author'] = book['author'][0]['name']\n",
    "\n",
    "        book['description'] = raw_book['book']['description']\n",
    "        book['description'] = clean_string(book['description'])\n",
    "\n",
    "        # Turn popular shelves into soup\n",
    "        book['popular_shelves'] = ''\n",
    "        normalizing_value = 5\n",
    "        for key,value in popular_shelves.items():\n",
    "            for i in range(int(value) // normalizing_value):\n",
    "                book['popular_shelves'] += ' ' + key\n",
    "        \n",
    "        # Turn book tags into soup\n",
    "        book['tags'] = ''\n",
    "        tags = book_tags[book['id']]\n",
    "        for key,value in tags.items():\n",
    "            for i in range(int(value) // normalizing_value):\n",
    "                book['tags'] += ' ' + key\n",
    "\n",
    "        books.append(book)\n",
    "    return books"
   ]
  },
  {
   "cell_type": "code",
   "execution_count": 5,
   "metadata": {},
   "outputs": [
    {
     "name": "stdout",
     "output_type": "stream",
     "text": [
      "{'fantasy': '37174', 'young-adult': '12716', 'fiction': '9954', 'harry-potter': '7169', 'ya': '4364', 'series': '3857', 'magic': '3374', 'childrens': '2408', 'adventure': '1742', 'children': '1560', 'j-k-rowling': '1309', 'children-s': '1095', 'sci-fi-fantasy': '1093', 'childhood': '1027', 'classics': '958', 'reread': '858', 'audiobook': '836', '5-stars': '828', 'children-s-books': '798', 'favorite-books': '792', 'kids': '748', 'novels': '744', 'fantasy-sci-fi': '738', 'middle-grade': '718', 'audiobooks': '701', 'paranormal': '673', 'read-more-than-once': '659', 'my-library': '653', 'ya-fantasy': '612', 'teen': '600', 'witches': '552', 'english': '552', 'urban-fantasy': '547', 'british': '534', 'jk-rowling': '532', 'books': '522', 'read-in-2016': '505', 'supernatural': '484', 're-reads': '474', 'mystery': '465', 'ya-fiction': '464', 'harry-potter-series': '450', 'my-favorites': '449', 'own-it': '446', 'childrens-books': '445', 'library': '440', 'audio': '433', 'young-adult-fiction': '416', 'novel': '410', '2005': '399', 'scifi-fantasy': '392', 'wizards': '386', 'faves': '384', 'favorite-series': '368', 'read-in-2015': '364', 'made-me-cry': '354', 'juvenile': '351', 'shelfari-favorites': '348', 'youth': '338', 'romance': '334', 'favourite': '324', 'read-in-2014': '314', 'to-re-read': '312', 'all-time-favourites': '305', 'childhood-favorites': '300', 'kids-books': '297', 'rereads': '294', 'contemporary': '289', 'read-in-english': '284', '5-star': '283', 'coming-of-age': '281', 'science-fiction-fantasy': '281', 'read-in-2017': '279', 'england': '279', 'children-s-literature': '276', 'favourite-books': '274', 'on-my-shelf': '273', 'my-bookshelf': '272', 'children-s-lit': '268', 'bookshelf': '266', 'magical': '265', 'favs': '264', 'childhood-books': '263', 'potter': '258'}\n"
     ]
    },
    {
     "data": {
      "text/plain": [
       "10000"
      ]
     },
     "execution_count": 5,
     "metadata": {},
     "output_type": "execute_result"
    }
   ],
   "source": [
    "#TODO - make this path not hardcoded\n",
    "metadata_directory = '../../goodbooks-10k/books_xml/books_xml'\n",
    "book_tags_file = '../../goodbooks-10k/book_tags_with_bookid.csv'\n",
    "tags_file = '../../goodbooks-10k/tags.csv'\n",
    "books = get_books(metadata_directory, book_tags_file, tags_file)\n",
    "len(books)"
   ]
  },
  {
   "cell_type": "code",
   "execution_count": 6,
   "metadata": {},
   "outputs": [
    {
     "data": {
      "text/html": [
       "<div>\n",
       "<style>\n",
       "    .dataframe thead tr:only-child th {\n",
       "        text-align: right;\n",
       "    }\n",
       "\n",
       "    .dataframe thead th {\n",
       "        text-align: left;\n",
       "    }\n",
       "\n",
       "    .dataframe tbody tr th {\n",
       "        vertical-align: top;\n",
       "    }\n",
       "</style>\n",
       "<table border=\"1\" class=\"dataframe\">\n",
       "  <thead>\n",
       "    <tr style=\"text-align: right;\">\n",
       "      <th></th>\n",
       "      <th>author</th>\n",
       "      <th>description</th>\n",
       "      <th>id</th>\n",
       "      <th>popular_shelves</th>\n",
       "      <th>tags</th>\n",
       "      <th>title</th>\n",
       "    </tr>\n",
       "  </thead>\n",
       "  <tbody>\n",
       "    <tr>\n",
       "      <th>0</th>\n",
       "      <td>J.K. Rowling</td>\n",
       "      <td>the war against voldemort is not going well: e...</td>\n",
       "      <td>1</td>\n",
       "      <td>fantasy fantasy fantasy fantasy fantasy fanta...</td>\n",
       "      <td>fantasy fantasy fantasy fantasy fantasy fanta...</td>\n",
       "      <td>Harry Potter and the Half-Blood Prince (Harry ...</td>\n",
       "    </tr>\n",
       "    <tr>\n",
       "      <th>1</th>\n",
       "      <td>J.K. Rowling</td>\n",
       "      <td>six years of magic, adventure, and mystery mak...</td>\n",
       "      <td>10</td>\n",
       "      <td>fantasy fantasy fantasy fantasy fantasy fanta...</td>\n",
       "      <td>fantasy fantasy fantasy fantasy fantasy fanta...</td>\n",
       "      <td>Harry Potter Collection (Harry Potter, #1-6)</td>\n",
       "    </tr>\n",
       "    <tr>\n",
       "      <th>2</th>\n",
       "      <td>Paul Auster</td>\n",
       "      <td>the discovery of a mysterious notebook turns a...</td>\n",
       "      <td>10006</td>\n",
       "      <td>fiction fiction fiction fiction fiction ficti...</td>\n",
       "      <td>fiction fiction fiction fiction fiction ficti...</td>\n",
       "      <td>Oracle Night</td>\n",
       "    </tr>\n",
       "    <tr>\n",
       "      <th>3</th>\n",
       "      <td>Eleanor H. Porter</td>\n",
       "      <td>when orphaned 11-year-old pollyanna comes to l...</td>\n",
       "      <td>1000751</td>\n",
       "      <td>classics classics classics classics classics ...</td>\n",
       "      <td>classics classics classics classics classics ...</td>\n",
       "      <td>Pollyanna (Pollyanna, #1)</td>\n",
       "    </tr>\n",
       "    <tr>\n",
       "      <th>4</th>\n",
       "      <td>Jussi Adler-Olsen</td>\n",
       "      <td>indtil for blot 40 år siden blev utilpassede e...</td>\n",
       "      <td>10008056</td>\n",
       "      <td>krimi krimi krimi krimi krimi krimi krimi kri...</td>\n",
       "      <td>krimi krimi krimi krimi krimi krimi krimi kri...</td>\n",
       "      <td>Journal 64 (Afdeling Q, #4)</td>\n",
       "    </tr>\n",
       "  </tbody>\n",
       "</table>\n",
       "</div>"
      ],
      "text/plain": [
       "              author                                        description  \\\n",
       "0       J.K. Rowling  the war against voldemort is not going well: e...   \n",
       "1       J.K. Rowling  six years of magic, adventure, and mystery mak...   \n",
       "2        Paul Auster  the discovery of a mysterious notebook turns a...   \n",
       "3  Eleanor H. Porter  when orphaned 11-year-old pollyanna comes to l...   \n",
       "4  Jussi Adler-Olsen  indtil for blot 40 år siden blev utilpassede e...   \n",
       "\n",
       "         id                                    popular_shelves  \\\n",
       "0         1   fantasy fantasy fantasy fantasy fantasy fanta...   \n",
       "1        10   fantasy fantasy fantasy fantasy fantasy fanta...   \n",
       "2     10006   fiction fiction fiction fiction fiction ficti...   \n",
       "3   1000751   classics classics classics classics classics ...   \n",
       "4  10008056   krimi krimi krimi krimi krimi krimi krimi kri...   \n",
       "\n",
       "                                                tags  \\\n",
       "0   fantasy fantasy fantasy fantasy fantasy fanta...   \n",
       "1   fantasy fantasy fantasy fantasy fantasy fanta...   \n",
       "2   fiction fiction fiction fiction fiction ficti...   \n",
       "3   classics classics classics classics classics ...   \n",
       "4   krimi krimi krimi krimi krimi krimi krimi kri...   \n",
       "\n",
       "                                               title  \n",
       "0  Harry Potter and the Half-Blood Prince (Harry ...  \n",
       "1       Harry Potter Collection (Harry Potter, #1-6)  \n",
       "2                                       Oracle Night  \n",
       "3                          Pollyanna (Pollyanna, #1)  \n",
       "4                        Journal 64 (Afdeling Q, #4)  "
      ]
     },
     "execution_count": 6,
     "metadata": {},
     "output_type": "execute_result"
    }
   ],
   "source": [
    "df = pd.DataFrame(books)\n",
    "df.head()"
   ]
  },
  {
   "cell_type": "code",
   "execution_count": 7,
   "metadata": {},
   "outputs": [
    {
     "data": {
      "text/plain": [
       "3888"
      ]
     },
     "execution_count": 7,
     "metadata": {},
     "output_type": "execute_result"
    }
   ],
   "source": [
    "# Count unique authors\n",
    "df['author'].nunique()"
   ]
  },
  {
   "cell_type": "code",
   "execution_count": 8,
   "metadata": {
    "collapsed": true
   },
   "outputs": [],
   "source": [
    "#Replace NaN with an empty string\n",
    "df['description'] = df['description'].fillna('')\n",
    "\n",
    "# Vectorize the features\n",
    "tfidf = TfidfVectorizer(stop_words='english')\n",
    "count = CountVectorizer(analyzer='word', stop_words='english')\n",
    "\n",
    "tfidf_matrix_description = tfidf.fit_transform(df['description'])\n",
    "tfidf_matrix_shelves = tfidf.fit_transform(df['popular_shelves'])\n",
    "tfidf_matrix_tags = tfidf.fit_transform(df['tags'])\n",
    "count_matrix_author = count.fit_transform(df['author'])\n",
    "\n",
    "# Compute the cosine similarity matrix for the features we want\n",
    "cosine_sim_description = linear_kernel(tfidf_matrix_description, tfidf_matrix_description)\n",
    "cosine_sim_shelves = linear_kernel(tfidf_matrix_shelves, tfidf_matrix_shelves)\n",
    "cosine_sim_tags = linear_kernel(tfidf_matrix_tags, tfidf_matrix_tags)\n",
    "cosine_sim_author = cosine_similarity(count_matrix_author, count_matrix_author)\n",
    "\n",
    "#Construct a reverse map of indices and book titles\n",
    "indices = pd.Series(df.index, index=df['title']).drop_duplicates()"
   ]
  },
  {
   "cell_type": "code",
   "execution_count": 40,
   "metadata": {
    "collapsed": true
   },
   "outputs": [],
   "source": [
    "# Construct list of similarity matrices and their corresponding weights\n",
    "similarities = [cosine_sim_description, cosine_sim_shelves, cosine_sim_tags, cosine_sim_author]\n",
    "weights = [0, 1, 1, 0]"
   ]
  },
  {
   "cell_type": "code",
   "execution_count": 41,
   "metadata": {},
   "outputs": [
    {
     "name": "stdout",
     "output_type": "stream",
     "text": [
      "4007                      Elon Musk: Inventing the Future\n",
      "9541                    Frida: A Biography of Frida Kahlo\n",
      "5853                                                 Cash\n",
      "1108    Elizabeth the Queen: The Life of a Modern Monarch\n",
      "386                       Einstein: His Life and Universe\n",
      "6868                Gonzo: The Life of Hunter S. Thompson\n",
      "1730                                     A Beautiful Mind\n",
      "2907    Nikola Tesla: Imagination and the Man That Inv...\n",
      "8668                     Born Standing Up: A Comic's Life\n",
      "9308                       The Fry Chronicles (Memoir #2)\n",
      "4328                Rosemary: The Hidden Kennedy Daughter\n",
      "7010               The Autobiography of Benjamin Franklin\n",
      "7009    The Wolf of Wall Street (The Wolf of Wall Stre...\n",
      "385                   Benjamin Franklin: An American Life\n",
      "558                The Story of My Experiments With Truth\n",
      "7980                       Moab Is My Washpot (Memoir #1)\n",
      "278                                    Van Gogh: The Life\n",
      "3166                   Gifted Hands: The Ben Carson Story\n",
      "8360    How to Make Love Like a Porn Star: A Cautionar...\n",
      "Name: title, dtype: object\n"
     ]
    }
   ],
   "source": [
    "title = 'The Innovators: How a Group of  Hackers, Geniuses and Geeks Created the Digital Revolution'\n",
    "recs = get_recommendations(df, indices, title, similarities, weights)\n",
    "print(recs)"
   ]
  },
  {
   "cell_type": "code",
   "execution_count": null,
   "metadata": {
    "collapsed": true
   },
   "outputs": [],
   "source": []
  }
 ],
 "metadata": {
  "kernelspec": {
   "display_name": "Python 3",
   "language": "python",
   "name": "python3"
  },
  "language_info": {
   "codemirror_mode": {
    "name": "ipython",
    "version": 3
   },
   "file_extension": ".py",
   "mimetype": "text/x-python",
   "name": "python",
   "nbconvert_exporter": "python",
   "pygments_lexer": "ipython3",
   "version": "3.6.3"
  }
 },
 "nbformat": 4,
 "nbformat_minor": 2
}
