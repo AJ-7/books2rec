{
 "cells": [
  {
   "cell_type": "code",
   "execution_count": 1,
   "metadata": {
    "collapsed": true
   },
   "outputs": [],
   "source": [
    "import os\n",
    "import html\n",
    "import re\n",
    "import numpy as np\n",
    "import pandas as pd\n",
    "import scipy\n",
    "from sklearn.feature_extraction.text import TfidfVectorizer, CountVectorizer\n",
    "from sklearn.metrics.pairwise import linear_kernel, cosine_similarity\n",
    "from sklearn.decomposition import TruncatedSVD\n",
    "\n",
    "# Custom libraries - must be in same directory\n",
    "import xml_to_dict\n",
    "import get_book_tags\n",
    "import get_bookid_mapper"
   ]
  },
  {
   "cell_type": "code",
   "execution_count": 2,
   "metadata": {
    "collapsed": true
   },
   "outputs": [],
   "source": [
    "# Set this to where you save and load all data\n",
    "data_path = '../../goodbooks-10k/'"
   ]
  },
  {
   "cell_type": "code",
   "execution_count": 3,
   "metadata": {
    "collapsed": true
   },
   "outputs": [],
   "source": [
    "def clean_string(s):\n",
    "    # often times a book will be missing a feature so we have to return if None\n",
    "    if not s:\n",
    "        return s\n",
    "    \n",
    "    # clean html\n",
    "    TAG_RE = re.compile(r'<[^>]+>')\n",
    "    s = html.unescape(s)\n",
    "    s = TAG_RE.sub('', s)\n",
    "    s = s.lower()\n",
    "    return s"
   ]
  },
  {
   "cell_type": "code",
   "execution_count": 9,
   "metadata": {
    "collapsed": true
   },
   "outputs": [],
   "source": [
    "# Function that takes in book feature similarity matrices as input and outputs most similar book\n",
    "def get_recommendations(df, indices, title, similarities, weights):\n",
    "    \n",
    "    # Get the index of the book that matches the title\n",
    "    idx = indices[title]\n",
    "    idx -= 1\n",
    "    \n",
    "    # Get the total number of books\n",
    "    num_books = len(similarities[0])\n",
    "\n",
    "    # Get the pairwsie similarity scores of all books with that book\n",
    "    similarity_scores = []\n",
    "    for similarity in similarities:\n",
    "        similarity_scores.append(list(enumerate(similarity[idx])))\n",
    "    \n",
    "    # Sum and average the similarity scores of the three feature sets to get true similarity\n",
    "    sim_scores = []\n",
    "    for i in range(num_books):  \n",
    "        book_id = similarity_scores[0][i][0]\n",
    "        \n",
    "        score = 0\n",
    "        for j in range(len(weights)):\n",
    "            score += (similarity_scores[j][i][1] * weights[j])\n",
    "            \n",
    "        sim_scores.append((book_id, score))\n",
    "        \n",
    "    # Sort the books based on the highest similarity scores first\n",
    "    sim_scores = sorted(sim_scores, key=lambda x: x[1], reverse=True)\n",
    "\n",
    "    # Get the scores of the N most similar books\n",
    "    N = 20\n",
    "    sim_scores = sim_scores[0:N]\n",
    "\n",
    "    # Get the book indices\n",
    "    book_indices = [i[0] for i in sim_scores]\n",
    "\n",
    "    # Return the top 10 most similar books\n",
    "    return df['title'].iloc[book_indices]"
   ]
  },
  {
   "cell_type": "code",
   "execution_count": 10,
   "metadata": {
    "collapsed": true
   },
   "outputs": [],
   "source": [
    "# Read in book metadata and store in a dictionary\n",
    "def get_books(metadata_directory, goodreads_to_bookid, book_tags):\n",
    "    books = []\n",
    "    for file in os.listdir(metadata_directory):\n",
    "        filename = metadata_directory + '/' + os.fsdecode(file)\n",
    "        raw_book, popular_shelves = xml_to_dict.dict_from_xml_file(filename)\n",
    "\n",
    "        book = {}\n",
    "        goodreads_id = raw_book['book']['id']\n",
    "        book['id'] = goodreads_to_bookid[goodreads_id]\n",
    "        book['title'] = raw_book['book']['title']\n",
    "        book['author'] = raw_book['book']['authors']['author']\n",
    "        \n",
    "        # if multiple authors, only use first (main) author\n",
    "        if isinstance(book['author'], dict):\n",
    "            book['author'] = book['author']['name']\n",
    "        else:\n",
    "            book['author'] = book['author'][0]['name']\n",
    "\n",
    "        book['description'] = raw_book['book']['description']\n",
    "        book['description'] = clean_string(book['description'])\n",
    "\n",
    "        # Turn popular shelves into soup\n",
    "        book['popular_shelves'] = ''\n",
    "        normalizing_value = 5\n",
    "        for key,value in popular_shelves.items():\n",
    "            for i in range(int(value) // normalizing_value):\n",
    "                book['popular_shelves'] += ' ' + key\n",
    "        \n",
    "        # Turn book tags into soup\n",
    "        book['tags'] = ''\n",
    "        tags = book_tags[goodreads_id]\n",
    "        for key,value in tags.items():\n",
    "            for i in range(int(value) // normalizing_value):\n",
    "                book['tags'] += ' ' + key\n",
    "\n",
    "        books.append(book)\n",
    "    return books"
   ]
  },
  {
   "cell_type": "code",
   "execution_count": 11,
   "metadata": {
    "collapsed": true
   },
   "outputs": [],
   "source": [
    "# Read in mapper and book tags\n",
    "goodreads_to_bookid = get_bookid_mapper.get_mapper(data_path + 'books.csv')\n",
    "book_tags = get_book_tags.get_tags(data_path + 'book_tags_with_bookid.csv', data_path + 'tags.csv')"
   ]
  },
  {
   "cell_type": "code",
   "execution_count": 12,
   "metadata": {},
   "outputs": [
    {
     "data": {
      "text/plain": [
       "10000"
      ]
     },
     "execution_count": 12,
     "metadata": {},
     "output_type": "execute_result"
    }
   ],
   "source": [
    "# Get books as dictionary of all its features\n",
    "metadata_directory = data_path + 'books_xml/books_xml'\n",
    "books = get_books(metadata_directory, goodreads_to_bookid, book_tags)\n",
    "len(books)"
   ]
  },
  {
   "cell_type": "code",
   "execution_count": null,
   "metadata": {},
   "outputs": [],
   "source": [
    "df = pd.DataFrame(books)\n",
    "df['id'] = df['id'].astype(int)\n",
    "df = df.sort_values(by=['id'])\n",
    "df = df.set_index('id')\n",
    "df.head()"
   ]
  },
  {
   "cell_type": "code",
   "execution_count": 14,
   "metadata": {
    "collapsed": true
   },
   "outputs": [],
   "source": [
    "#Construct a reverse map of indices and book titles\n",
    "indices = pd.Series(df.index, index=df['title']).drop_duplicates()\n",
    "\n",
    "#Replace NaN with an empty string\n",
    "df['description'] = df['description'].fillna('')"
   ]
  },
  {
   "cell_type": "code",
   "execution_count": null,
   "metadata": {},
   "outputs": [],
   "source": [
    "# Count unique authors\n",
    "df['author'].nunique()"
   ]
  },
  {
   "cell_type": "code",
   "execution_count": 54,
   "metadata": {
    "collapsed": true
   },
   "outputs": [],
   "source": [
    "# Vectorize the features\n",
    "tfidf = TfidfVectorizer(stop_words='english')\n",
    "\n",
    "tfidf_matrix_description = tfidf.fit_transform(df['description'])\n",
    "tfidf_matrix_shelves = tfidf.fit_transform(df['popular_shelves'])\n",
    "tfidf_matrix_tags = tfidf.fit_transform(df['tags'])\n",
    "\n",
    "# Use pandas and scipy to make sparse sim matrix for authors\n",
    "count_matrix_author = pd.get_dummies(df['author'])\n",
    "count_matrix_author = scipy.sparse.csr_matrix(count_matrix_author.values)\n",
    "\n",
    "# Compute the cosine similarity matrix for the features we want\n",
    "cosine_sim_description = cosine_similarity(tfidf_matrix_description, tfidf_matrix_description)\n",
    "cosine_sim_shelves = cosine_similarity(tfidf_matrix_shelves, tfidf_matrix_shelves)\n",
    "cosine_sim_tags = cosine_similarity(tfidf_matrix_tags, tfidf_matrix_tags)\n",
    "cosine_sim_author = cosine_similarity(count_matrix_author, count_matrix_author)"
   ]
  },
  {
   "cell_type": "code",
   "execution_count": null,
   "metadata": {},
   "outputs": [],
   "source": [
    "# Get recs using seperate sim matrices\n",
    "title = 'The Fellowship of the Ring (The Lord of the Rings, #1)'\n",
    "\n",
    "similarities = [cosine_sim_description, cosine_sim_shelves, cosine_sim_tags, cosine_sim_author]\n",
    "weights = [1, 1, 1, 0]\n",
    "recs = get_recommendations(df, indices, title, similarities, weights)\n",
    "recs"
   ]
  },
  {
   "cell_type": "code",
   "execution_count": 56,
   "metadata": {},
   "outputs": [
    {
     "data": {
      "text/plain": [
       "(10000, 82203)"
      ]
     },
     "execution_count": 56,
     "metadata": {},
     "output_type": "execute_result"
    }
   ],
   "source": [
    "# Append all feature matrices together\n",
    "feature_matrix = scipy.sparse.hstack([tfidf_matrix_description, tfidf_matrix_shelves, tfidf_matrix_tags])\n",
    "feature_matrix.shape"
   ]
  },
  {
   "cell_type": "code",
   "execution_count": 57,
   "metadata": {
    "collapsed": true
   },
   "outputs": [],
   "source": [
    "# Reduce the dimensions of the combined feature matrix\n",
    "svd = TruncatedSVD(n_components=1000, n_iter=7, random_state=42)\n",
    "feature_matrix_reduced = svd.fit_transform(feature_matrix)"
   ]
  },
  {
   "cell_type": "code",
   "execution_count": null,
   "metadata": {},
   "outputs": [],
   "source": [
    "# Compute the cosine similarity matrix for the combined and reduced features\n",
    "cosine_sim_features = cosine_similarity(feature_matrix_reduced, feature_matrix_reduced)"
   ]
  },
  {
   "cell_type": "code",
   "execution_count": null,
   "metadata": {},
   "outputs": [],
   "source": [
    "# Get recs using the reduced combined feature matrix\n",
    "similarities_features = [cosine_sim_features]\n",
    "weights_features = [1]\n",
    "recs_features = get_recommendations(df, indices, title, similarities_features, weights_features)\n",
    "recs_features"
   ]
  },
  {
   "cell_type": "code",
   "execution_count": 197,
   "metadata": {},
   "outputs": [
    {
     "data": {
      "text/plain": [
       "(10000, 1000)"
      ]
     },
     "execution_count": 197,
     "metadata": {},
     "output_type": "execute_result"
    }
   ],
   "source": [
    "# Save reduced feature matrix\n",
    "filename = data_path + 'feature_matrix_reduced.npy'\n",
    "np.save(filename, feature_matrix_reduced)\n",
    "feature_matrix_reduced.shape"
   ]
  },
  {
   "cell_type": "code",
   "execution_count": 96,
   "metadata": {},
   "outputs": [
    {
     "data": {
      "text/plain": [
       "(10000, 2000)"
      ]
     },
     "execution_count": 96,
     "metadata": {},
     "output_type": "execute_result"
    }
   ],
   "source": [
    "# Load in item_matrix (concepts and features) and test recs\n",
    "filename = data_path + 'item_matrix.npy'\n",
    "item_matrix = np.load(filename)\n",
    "item_matrix.shape"
   ]
  },
  {
   "cell_type": "code",
   "execution_count": 97,
   "metadata": {},
   "outputs": [],
   "source": [
    "# Compute the cosine similarity matrix for the item matrix\n",
    "cosine_sim_item_matrix = cosine_similarity(item_matrix)"
   ]
  },
  {
   "cell_type": "code",
   "execution_count": null,
   "metadata": {
    "collapsed": true
   },
   "outputs": [],
   "source": [
    "# Save similarity matrix using the item_matrix (joined matrices from ratings and features)\n",
    "filename = data_path + 'similarity_matrix.npy'\n",
    "np.save(filename, cosine_sim_item_matrix)"
   ]
  },
  {
   "cell_type": "code",
   "execution_count": 98,
   "metadata": {},
   "outputs": [
    {
     "data": {
      "text/plain": [
       "id\n",
       "19      The Fellowship of the Ring (The Lord of the Ri...\n",
       "155            The Two Towers (The Lord of the Rings, #2)\n",
       "161     The Return of the King (The Lord of the Rings,...\n",
       "7                                              The Hobbit\n",
       "189     The Lord of the Rings (The Lord of the Rings, ...\n",
       "1629              The Tombs of Atuan (Earthsea Cycle, #2)\n",
       "8038    The Belgariad Boxed Set: Pawn of Prophecy / Qu...\n",
       "5735    Chronicles of the Black Company (The Chronicle...\n",
       "1812              Magician: Master (The Riftwar Saga, #2)\n",
       "9343    The Wheel of Time: Boxed Set  (Wheel of Time, ...\n",
       "5560        The Magic of Recluce (The Saga of Recluce #1)\n",
       "4200    The Hundred Thousand Kingdoms (Inheritance Tri...\n",
       "9668                The Broken Kingdoms (Inheritance, #2)\n",
       "1591              The Farthest Shore (Earthsea Cycle, #3)\n",
       "5429    The Curse of Chalion (World of the Five Gods, #1)\n",
       "8614                    Dawn of Wonder (The Wakening, #1)\n",
       "917                  The Blade Itself (The First Law, #1)\n",
       "1731                   The Desert Spear (Demon Cycle, #2)\n",
       "3697                     The Heroes (First Law World, #5)\n",
       "3578                                               Tigana\n",
       "Name: title, dtype: object"
      ]
     },
     "execution_count": 98,
     "metadata": {},
     "output_type": "execute_result"
    }
   ],
   "source": [
    "# Get recs using the item matrix (concepts and features)\n",
    "similarities_item_matrix = [cosine_sim_item_matrix]\n",
    "weights_item_matrix = [1]\n",
    "recs_item_matrix = get_recommendations(df, indices, title, similarities_item_matrix, weights_item_matrix)\n",
    "recs_item_matrix"
   ]
  },
  {
   "cell_type": "code",
   "execution_count": 99,
   "metadata": {},
   "outputs": [
    {
     "data": {
      "text/plain": [
       "(10000, 1000)"
      ]
     },
     "execution_count": 99,
     "metadata": {},
     "output_type": "execute_result"
    }
   ],
   "source": [
    "# Test just the matrix derived from ratings matrix\n",
    "item_matrix_test = item_matrix[:,0:1000]\n",
    "item_matrix_test.shape"
   ]
  },
  {
   "cell_type": "code",
   "execution_count": 100,
   "metadata": {
    "collapsed": true
   },
   "outputs": [],
   "source": [
    "# Compute the cosine similarity matrix for the collab filtering matrix\n",
    "cosine_sim_test = cosine_similarity(item_matrix_test)"
   ]
  },
  {
   "cell_type": "code",
   "execution_count": 101,
   "metadata": {},
   "outputs": [
    {
     "data": {
      "text/plain": [
       "id\n",
       "19     The Fellowship of the Ring (The Lord of the Ri...\n",
       "7                                             The Hobbit\n",
       "155           The Two Towers (The Lord of the Rings, #2)\n",
       "161    The Return of the King (The Lord of the Rings,...\n",
       "2      Harry Potter and the Sorcerer's Stone (Harry P...\n",
       "37     The Lion, the Witch, and the Wardrobe (Chronic...\n",
       "39        A Game of Thrones (A Song of Ice and Fire, #1)\n",
       "54     The Hitchhiker's Guide to the Galaxy (Hitchhik...\n",
       "13                                                  1984\n",
       "14                                           Animal Farm\n",
       "62           The Golden Compass (His Dark Materials, #1)\n",
       "4                                  To Kill a Mockingbird\n",
       "28                                     Lord of the Flies\n",
       "53                    Eragon (The Inheritance Cycle, #1)\n",
       "21     Harry Potter and the Order of the Phoenix (Har...\n",
       "25     Harry Potter and the Deathly Hallows (Harry Po...\n",
       "27     Harry Potter and the Half-Blood Prince (Harry ...\n",
       "18     Harry Potter and the Prisoner of Azkaban (Harr...\n",
       "24     Harry Potter and the Goblet of Fire (Harry Pot...\n",
       "189    The Lord of the Rings (The Lord of the Rings, ...\n",
       "Name: title, dtype: object"
      ]
     },
     "execution_count": 101,
     "metadata": {},
     "output_type": "execute_result"
    }
   ],
   "source": [
    "similarities_test = [cosine_sim_test]\n",
    "weights_test = [1]\n",
    "recs_test = get_recommendations(df, indices, title, similarities_test, weights_test)\n",
    "recs_test"
   ]
  },
  {
   "cell_type": "code",
   "execution_count": null,
   "metadata": {
    "collapsed": true
   },
   "outputs": [],
   "source": []
  }
 ],
 "metadata": {
  "kernelspec": {
   "display_name": "Python 3",
   "language": "python",
   "name": "python3"
  },
  "language_info": {
   "codemirror_mode": {
    "name": "ipython",
    "version": 3
   },
   "file_extension": ".py",
   "mimetype": "text/x-python",
   "name": "python",
   "nbconvert_exporter": "python",
   "pygments_lexer": "ipython3",
   "version": "3.6.3"
  }
 },
 "nbformat": 4,
 "nbformat_minor": 2
}
