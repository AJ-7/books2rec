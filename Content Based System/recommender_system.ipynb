{
 "cells": [
  {
   "cell_type": "code",
   "execution_count": 2,
   "metadata": {
    "collapsed": true
   },
   "outputs": [],
   "source": [
    "import os\n",
    "import html\n",
    "import re\n",
    "import numpy as np\n",
    "import pandas as pd\n",
    "import scipy\n",
    "from sklearn.feature_extraction.text import TfidfVectorizer, CountVectorizer\n",
    "from sklearn.metrics.pairwise import linear_kernel, cosine_similarity\n",
    "from sklearn.decomposition import TruncatedSVD\n",
    "\n",
    "# Custom libraries - must be in same directory\n",
    "import xml_to_dict\n",
    "import get_book_tags\n",
    "import get_bookid_mapper"
   ]
  },
  {
   "cell_type": "code",
   "execution_count": 13,
   "metadata": {
    "collapsed": true
   },
   "outputs": [],
   "source": [
    "def clean_string(s):\n",
    "    # often times a book will be missing a feature so we have to return if None\n",
    "    if not s:\n",
    "        return s\n",
    "    \n",
    "    # clean html\n",
    "    TAG_RE = re.compile(r'<[^>]+>')\n",
    "    s = html.unescape(s)\n",
    "    s = TAG_RE.sub('', s)\n",
    "    s = s.lower()\n",
    "    return s"
   ]
  },
  {
   "cell_type": "code",
   "execution_count": 53,
   "metadata": {
    "collapsed": true
   },
   "outputs": [],
   "source": [
    "# Function that takes in book feature similarity matrices as input and outputs most similar book\n",
    "def get_recommendations(df, indices, title, similarities, weights):\n",
    "    \n",
    "    # Get the index of the book that matches the title\n",
    "    idx = indices[title]\n",
    "    idx -= 1\n",
    "    \n",
    "    # Get the total number of books\n",
    "    num_books = len(similarities[0])\n",
    "\n",
    "    # Get the pairwsie similarity scores of all books with that book\n",
    "    similarity_scores = []\n",
    "    for similarity in similarities:\n",
    "        similarity_scores.append(list(enumerate(similarity[idx])))\n",
    "    \n",
    "    # Sum and average the similarity scores of the three feature sets to get true similarity\n",
    "    sim_scores = []\n",
    "    for i in range(num_books):  \n",
    "        book_id = similarity_scores[0][i][0]\n",
    "        \n",
    "        score = 0\n",
    "        for j in range(len(weights)):\n",
    "            score += (similarity_scores[j][i][1] * weights[j])\n",
    "            \n",
    "        sim_scores.append((book_id, score))\n",
    "        \n",
    "    # Sort the books based on the highest similarity scores first\n",
    "    sim_scores = sorted(sim_scores, key=lambda x: x[1], reverse=True)\n",
    "\n",
    "    # Get the scores of the N most similar books\n",
    "    N = 20\n",
    "    sim_scores = sim_scores[1:N]\n",
    "\n",
    "    # Get the book indices\n",
    "    book_indices = [i[0] for i in sim_scores]\n",
    "\n",
    "    # Return the top 10 most similar books\n",
    "    return df['title'].iloc[book_indices]"
   ]
  },
  {
   "cell_type": "code",
   "execution_count": 15,
   "metadata": {
    "collapsed": true
   },
   "outputs": [],
   "source": [
    "# Read in book metadata and store in a dictionary\n",
    "def get_books(metadata_directory, goodreads_to_bookid, book_tags):\n",
    "    books = []\n",
    "    for file in os.listdir(metadata_directory):\n",
    "        filename = metadata_directory + '/' + os.fsdecode(file)\n",
    "        raw_book, popular_shelves = xml_to_dict.dict_from_xml_file(filename)\n",
    "\n",
    "        book = {}\n",
    "        goodreads_id = raw_book['book']['id']\n",
    "        book['id'] = goodreads_to_bookid[goodreads_id]\n",
    "        book['title'] = raw_book['book']['title']\n",
    "        book['author'] = raw_book['book']['authors']['author']\n",
    "        \n",
    "        # if multiple authors, only use first (main) author\n",
    "        if isinstance(book['author'], dict):\n",
    "            book['author'] = book['author']['name']\n",
    "        else:\n",
    "            book['author'] = book['author'][0]['name']\n",
    "\n",
    "        book['description'] = raw_book['book']['description']\n",
    "        book['description'] = clean_string(book['description'])\n",
    "\n",
    "        # Turn popular shelves into soup\n",
    "        book['popular_shelves'] = ''\n",
    "        normalizing_value = 5\n",
    "        for key,value in popular_shelves.items():\n",
    "            for i in range(int(value) // normalizing_value):\n",
    "                book['popular_shelves'] += ' ' + key\n",
    "        \n",
    "        # Turn book tags into soup\n",
    "        book['tags'] = ''\n",
    "        tags = book_tags[goodreads_id]\n",
    "        for key,value in tags.items():\n",
    "            for i in range(int(value) // normalizing_value):\n",
    "                book['tags'] += ' ' + key\n",
    "\n",
    "        books.append(book)\n",
    "    return books"
   ]
  },
  {
   "cell_type": "code",
   "execution_count": 18,
   "metadata": {},
   "outputs": [],
   "source": [
    "# Read in mapper and book tags\n",
    "goodreads_to_bookid = get_bookid_mapper.get_mapper('../../goodbooks-10k/books.csv')\n",
    "book_tags = get_book_tags.get_tags('../../goodbooks-10k/book_tags_with_bookid.csv', '../../goodbooks-10k/tags.csv')"
   ]
  },
  {
   "cell_type": "code",
   "execution_count": 19,
   "metadata": {},
   "outputs": [
    {
     "data": {
      "text/plain": [
       "10000"
      ]
     },
     "execution_count": 19,
     "metadata": {},
     "output_type": "execute_result"
    }
   ],
   "source": [
    "# Get books as dictionary of all its features\n",
    "metadata_directory = '../../goodbooks-10k/books_xml/books_xml'\n",
    "books = get_books(metadata_directory, goodreads_to_bookid, book_tags)\n",
    "len(books)"
   ]
  },
  {
   "cell_type": "code",
   "execution_count": 37,
   "metadata": {},
   "outputs": [
    {
     "data": {
      "text/html": [
       "<div>\n",
       "<style>\n",
       "    .dataframe thead tr:only-child th {\n",
       "        text-align: right;\n",
       "    }\n",
       "\n",
       "    .dataframe thead th {\n",
       "        text-align: left;\n",
       "    }\n",
       "\n",
       "    .dataframe tbody tr th {\n",
       "        vertical-align: top;\n",
       "    }\n",
       "</style>\n",
       "<table border=\"1\" class=\"dataframe\">\n",
       "  <thead>\n",
       "    <tr style=\"text-align: right;\">\n",
       "      <th></th>\n",
       "      <th>author</th>\n",
       "      <th>description</th>\n",
       "      <th>popular_shelves</th>\n",
       "      <th>tags</th>\n",
       "      <th>title</th>\n",
       "    </tr>\n",
       "    <tr>\n",
       "      <th>id</th>\n",
       "      <th></th>\n",
       "      <th></th>\n",
       "      <th></th>\n",
       "      <th></th>\n",
       "      <th></th>\n",
       "    </tr>\n",
       "  </thead>\n",
       "  <tbody>\n",
       "    <tr>\n",
       "      <th>1</th>\n",
       "      <td>Suzanne Collins</td>\n",
       "      <td>winning will make you famous. losing means cer...</td>\n",
       "      <td>young-adult young-adult young-adult young-adu...</td>\n",
       "      <td>young-adult young-adult young-adult young-adu...</td>\n",
       "      <td>The Hunger Games (The Hunger Games, #1)</td>\n",
       "    </tr>\n",
       "    <tr>\n",
       "      <th>2</th>\n",
       "      <td>J.K. Rowling</td>\n",
       "      <td>harry potter's life is miserable. his parents ...</td>\n",
       "      <td>fantasy fantasy fantasy fantasy fantasy fanta...</td>\n",
       "      <td>fantasy fantasy fantasy fantasy fantasy fanta...</td>\n",
       "      <td>Harry Potter and the Sorcerer's Stone (Harry P...</td>\n",
       "    </tr>\n",
       "    <tr>\n",
       "      <th>3</th>\n",
       "      <td>Stephenie Meyer</td>\n",
       "      <td>about three things i was absolutely positive.f...</td>\n",
       "      <td>young-adult young-adult young-adult young-adu...</td>\n",
       "      <td>young-adult young-adult young-adult young-adu...</td>\n",
       "      <td>Twilight (Twilight, #1)</td>\n",
       "    </tr>\n",
       "    <tr>\n",
       "      <th>4</th>\n",
       "      <td>Harper Lee</td>\n",
       "      <td>the unforgettable novel of a childhood in a sl...</td>\n",
       "      <td>classics classics classics classics classics ...</td>\n",
       "      <td>classics classics classics classics classics ...</td>\n",
       "      <td>To Kill a Mockingbird</td>\n",
       "    </tr>\n",
       "    <tr>\n",
       "      <th>5</th>\n",
       "      <td>F. Scott Fitzgerald</td>\n",
       "      <td>the great gatsby, f. scott fitzgerald’s third ...</td>\n",
       "      <td>classics classics classics classics classics ...</td>\n",
       "      <td>classics classics classics classics classics ...</td>\n",
       "      <td>The Great Gatsby</td>\n",
       "    </tr>\n",
       "  </tbody>\n",
       "</table>\n",
       "</div>"
      ],
      "text/plain": [
       "                 author                                        description  \\\n",
       "id                                                                           \n",
       "1       Suzanne Collins  winning will make you famous. losing means cer...   \n",
       "2          J.K. Rowling  harry potter's life is miserable. his parents ...   \n",
       "3       Stephenie Meyer  about three things i was absolutely positive.f...   \n",
       "4            Harper Lee  the unforgettable novel of a childhood in a sl...   \n",
       "5   F. Scott Fitzgerald  the great gatsby, f. scott fitzgerald’s third ...   \n",
       "\n",
       "                                      popular_shelves  \\\n",
       "id                                                      \n",
       "1    young-adult young-adult young-adult young-adu...   \n",
       "2    fantasy fantasy fantasy fantasy fantasy fanta...   \n",
       "3    young-adult young-adult young-adult young-adu...   \n",
       "4    classics classics classics classics classics ...   \n",
       "5    classics classics classics classics classics ...   \n",
       "\n",
       "                                                 tags  \\\n",
       "id                                                      \n",
       "1    young-adult young-adult young-adult young-adu...   \n",
       "2    fantasy fantasy fantasy fantasy fantasy fanta...   \n",
       "3    young-adult young-adult young-adult young-adu...   \n",
       "4    classics classics classics classics classics ...   \n",
       "5    classics classics classics classics classics ...   \n",
       "\n",
       "                                                title  \n",
       "id                                                     \n",
       "1             The Hunger Games (The Hunger Games, #1)  \n",
       "2   Harry Potter and the Sorcerer's Stone (Harry P...  \n",
       "3                             Twilight (Twilight, #1)  \n",
       "4                               To Kill a Mockingbird  \n",
       "5                                    The Great Gatsby  "
      ]
     },
     "execution_count": 37,
     "metadata": {},
     "output_type": "execute_result"
    }
   ],
   "source": [
    "df = pd.DataFrame(books)\n",
    "df['id'] = df['id'].astype(int)\n",
    "df = df.sort_values(by=['id'])\n",
    "df = df.set_index('id')\n",
    "df.head()"
   ]
  },
  {
   "cell_type": "code",
   "execution_count": 38,
   "metadata": {},
   "outputs": [
    {
     "data": {
      "text/plain": [
       "3888"
      ]
     },
     "execution_count": 38,
     "metadata": {},
     "output_type": "execute_result"
    }
   ],
   "source": [
    "# Count unique authors\n",
    "df['author'].nunique()"
   ]
  },
  {
   "cell_type": "code",
   "execution_count": 103,
   "metadata": {
    "collapsed": true
   },
   "outputs": [],
   "source": [
    "#Replace NaN with an empty string\n",
    "df['description'] = df['description'].fillna('')\n",
    "\n",
    "# Vectorize the features\n",
    "tfidf = TfidfVectorizer(stop_words='english')\n",
    "\n",
    "tfidf_matrix_description = tfidf.fit_transform(df['description'])\n",
    "tfidf_matrix_shelves = tfidf.fit_transform(df['popular_shelves'])\n",
    "tfidf_matrix_tags = tfidf.fit_transform(df['tags'])\n",
    "\n",
    "# Use pandas and scipy to make sparse sim matrix for authors\n",
    "count_matrix_author = pd.get_dummies(df['author'])\n",
    "count_matrix_author = scipy.sparse.csr_matrix(count_matrix_author.values)\n",
    "\n",
    "# Compute the cosine similarity matrix for the features we want\n",
    "cosine_sim_description = cosine_similarity(tfidf_matrix_description, tfidf_matrix_description)\n",
    "cosine_sim_shelves = cosine_similarity(tfidf_matrix_shelves, tfidf_matrix_shelves)\n",
    "cosine_sim_tags = cosine_similarity(tfidf_matrix_tags, tfidf_matrix_tags)\n",
    "cosine_sim_author = cosine_similarity(count_matrix_author, count_matrix_author)"
   ]
  },
  {
   "cell_type": "code",
   "execution_count": 87,
   "metadata": {},
   "outputs": [
    {
     "data": {
      "text/plain": [
       "(10000, 82203)"
      ]
     },
     "execution_count": 87,
     "metadata": {},
     "output_type": "execute_result"
    }
   ],
   "source": [
    "# Append all feature matrices together\n",
    "feature_matrix = scipy.sparse.hstack([tfidf_matrix_description, tfidf_matrix_shelves, tfidf_matrix_tags])\n",
    "feature_matrix.shape"
   ]
  },
  {
   "cell_type": "code",
   "execution_count": 88,
   "metadata": {
    "collapsed": true
   },
   "outputs": [],
   "source": [
    "# Reduce the dimensions of the combined feature matrix\n",
    "svd = TruncatedSVD(n_components=1000, n_iter=7, random_state=42)\n",
    "feature_matrix_reduced = svd.fit_transform(feature_matrix)"
   ]
  },
  {
   "cell_type": "code",
   "execution_count": 104,
   "metadata": {},
   "outputs": [],
   "source": [
    "# Compute the cosine similarity matrix for the combined and reduced features\n",
    "cosine_sim = cosine_similarity(feature_matrix_reduced, feature_matrix_reduced)"
   ]
  },
  {
   "cell_type": "code",
   "execution_count": 90,
   "metadata": {},
   "outputs": [],
   "source": [
    "#Construct a reverse map of indices and book titles\n",
    "indices = pd.Series(df.index, index=df['title']).drop_duplicates()"
   ]
  },
  {
   "cell_type": "code",
   "execution_count": 105,
   "metadata": {},
   "outputs": [
    {
     "data": {
      "text/plain": [
       "id\n",
       "32                                   Of Mice and Men\n",
       "3255                        The Beautiful and Damned\n",
       "58                The Adventures of Huckleberry Finn\n",
       "131                              The Grapes of Wrath\n",
       "8                             The Catcher in the Rye\n",
       "130                          The Old Man and the Sea\n",
       "28                                 Lord of the Flies\n",
       "160                               Great Expectations\n",
       "4                              To Kill a Mockingbird\n",
       "194                          Moby-Dick or, The Whale\n",
       "730                                        The Pearl\n",
       "264                               The Sun Also Rises\n",
       "63                                 Wuthering Heights\n",
       "225                                     East of Eden\n",
       "116                     The Adventures of Tom Sawyer\n",
       "83                              A Tale of Two Cities\n",
       "559                        Tess of the D'Urbervilles\n",
       "1094                                      My Ántonia\n",
       "6155    Heart of Darkness and Selected Short Fiction\n",
       "Name: title, dtype: object"
      ]
     },
     "execution_count": 105,
     "metadata": {},
     "output_type": "execute_result"
    }
   ],
   "source": [
    "# Get recs using indivual and full sim matricies\n",
    "title = 'The Great Gatsby'\n",
    "\n",
    "similarities = [cosine_sim_description, cosine_sim_shelves, cosine_sim_tags, cosine_sim_author]\n",
    "weights = [1, 1, 1, 0]\n",
    "recs = get_recommendations(df, indices, title, similarities, weights)\n",
    "recs"
   ]
  },
  {
   "cell_type": "code",
   "execution_count": 106,
   "metadata": {},
   "outputs": [
    {
     "data": {
      "text/plain": [
       "id\n",
       "3255                             The Beautiful and Damned\n",
       "730                                             The Pearl\n",
       "194                               Moby-Dick or, The Whale\n",
       "160                                    Great Expectations\n",
       "58                     The Adventures of Huckleberry Finn\n",
       "32                                        Of Mice and Men\n",
       "1094                                           My Ántonia\n",
       "129                       One Flew Over the Cuckoo's Nest\n",
       "131                                   The Grapes of Wrath\n",
       "8                                  The Catcher in the Rye\n",
       "63                                      Wuthering Heights\n",
       "301                                     Heart of Darkness\n",
       "28                                      Lord of the Flies\n",
       "478                                       Robinson Crusoe\n",
       "650                                     Uncle Tom's Cabin\n",
       "225                                          East of Eden\n",
       "7620                  Ethan Frome and Other Short Fiction\n",
       "14                                            Animal Farm\n",
       "4333    The Red Badge of Courage and Selected Short Fi...\n",
       "Name: title, dtype: object"
      ]
     },
     "execution_count": 106,
     "metadata": {},
     "output_type": "execute_result"
    }
   ],
   "source": [
    "# Get recs using the reduced combined feature matrix\n",
    "similarities = [cosine_sim]\n",
    "weights = [1]\n",
    "recs = get_recommendations(df, indices, title, similarities, weights)\n",
    "recs"
   ]
  },
  {
   "cell_type": "code",
   "execution_count": 93,
   "metadata": {},
   "outputs": [
    {
     "data": {
      "text/plain": [
       "(10000, 1000)"
      ]
     },
     "execution_count": 93,
     "metadata": {},
     "output_type": "execute_result"
    }
   ],
   "source": [
    "# Save reduced feature matrix\n",
    "filename = 'feature_matrix_reduced.npy'\n",
    "np.save(filename, feature_matrix_reduced)\n",
    "feature_matrix_reduced.shape"
   ]
  },
  {
   "cell_type": "code",
   "execution_count": 66,
   "metadata": {},
   "outputs": [
    {
     "data": {
      "text/plain": [
       "(10000, 1000)"
      ]
     },
     "execution_count": 66,
     "metadata": {},
     "output_type": "execute_result"
    }
   ],
   "source": [
    "# Verify saving and loading works\n",
    "feature_matrix_reduced = np.load(filename)\n",
    "feature_matrix_reduced.shape"
   ]
  },
  {
   "cell_type": "code",
   "execution_count": null,
   "metadata": {
    "collapsed": true
   },
   "outputs": [],
   "source": []
  }
 ],
 "metadata": {
  "kernelspec": {
   "display_name": "Python 3",
   "language": "python",
   "name": "python3"
  },
  "language_info": {
   "codemirror_mode": {
    "name": "ipython",
    "version": 3
   },
   "file_extension": ".py",
   "mimetype": "text/x-python",
   "name": "python",
   "nbconvert_exporter": "python",
   "pygments_lexer": "ipython3",
   "version": "3.6.3"
  }
 },
 "nbformat": 4,
 "nbformat_minor": 2
}
