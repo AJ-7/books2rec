{
 "cells": [
  {
   "cell_type": "code",
   "execution_count": 36,
   "metadata": {
    "collapsed": true
   },
   "outputs": [],
   "source": [
    "import os\n",
    "import sys\n",
    "import re\n",
    "import html\n",
    "import numpy as np\n",
    "import pandas as pd\n",
    "import scipy\n",
    "from sklearn.feature_extraction.text import TfidfVectorizer, CountVectorizer\n",
    "from sklearn.metrics.pairwise import linear_kernel, cosine_similarity\n",
    "from sklearn.decomposition import TruncatedSVD\n",
    "from surprise import Reader, Dataset, SVD, evaluate, dump, accuracy\n",
    "from collections import defaultdict\n",
    "\n",
    "# Custom libraries\n",
    "sys.path.append('../Util')\n",
    "from loader import get_books, get_book_dataframe, get_book_features, get_mapper, get_tags\n",
    "from joiner import get_ratings, get_joint, load_amazon, load_goodreads\n",
    "from reduction import reduce_matrix, get_sparse\n",
    "import xml_to_dict"
   ]
  },
  {
   "cell_type": "code",
   "execution_count": 37,
   "metadata": {
    "collapsed": true
   },
   "outputs": [],
   "source": [
    "data_path = '../../goodbooks-10k/'"
   ]
  },
  {
   "cell_type": "code",
   "execution_count": 38,
   "metadata": {
    "collapsed": true
   },
   "outputs": [],
   "source": [
    "def clean_string(s):\n",
    "    # often times a book will be missing a feature so we have to return if None\n",
    "    if not s:\n",
    "        return s\n",
    "    \n",
    "    # clean html\n",
    "    TAG_RE = re.compile(r'<[^>]+>')\n",
    "    s = html.unescape(s)\n",
    "    s = TAG_RE.sub('', s)\n",
    "    return s"
   ]
  },
  {
   "cell_type": "code",
   "execution_count": 39,
   "metadata": {},
   "outputs": [],
   "source": [
    "def get_books(data_path):\n",
    "    metadata_directory = data_path + 'books_xml/books_xml'\n",
    "    goodreads_to_bookid = get_mapper(data_path + 'books.csv')\n",
    "    book_tags = get_tags(data_path + 'book_tags_with_bookid.csv', data_path + 'tags.csv')\n",
    "    books = []\n",
    "    \n",
    "    for file in os.listdir(metadata_directory):\n",
    "        filename = metadata_directory + '/' + os.fsdecode(file)\n",
    "        raw_book, popular_shelves = xml_to_dict.dict_from_xml_file(filename)\n",
    "\n",
    "        book = {}\n",
    "        goodreads_id = raw_book['book']['id']\n",
    "        book['id'] = goodreads_to_bookid[goodreads_id]\n",
    "        book['title'] = raw_book['book']['title']\n",
    "        book['image_url'] = raw_book['book']['image_url']\n",
    "        book['url'] = raw_book['book']['url']\n",
    "        book['author'] = raw_book['book']['authors']['author']\n",
    "        \n",
    "        # if multiple authors, only use first (main) author\n",
    "        if isinstance(book['author'], dict):\n",
    "            book['author'] = book['author']['name']\n",
    "        else:\n",
    "            book['author'] = book['author'][0]['name']\n",
    "\n",
    "        book['description'] = raw_book['book']['description']\n",
    "        book['description'] = clean_string(book['description'])\n",
    "        \n",
    "        books.append(book)\n",
    "    return books"
   ]
  },
  {
   "cell_type": "code",
   "execution_count": 40,
   "metadata": {},
   "outputs": [],
   "source": [
    "books = get_books(data_path)"
   ]
  },
  {
   "cell_type": "code",
   "execution_count": 41,
   "metadata": {
    "collapsed": true
   },
   "outputs": [],
   "source": [
    "df = pd.DataFrame(books)\n",
    "df['id'] = df['id'].astype(int)\n",
    "df = df.sort_values(by=['id'])\n",
    "df = df.set_index('id')\n",
    "\n",
    "#Replace NaN with an empty string\n",
    "df['description'] = df['description'].fillna('')"
   ]
  },
  {
   "cell_type": "code",
   "execution_count": 42,
   "metadata": {},
   "outputs": [
    {
     "data": {
      "text/plain": [
       "Index(['author', 'description', 'image_url', 'title', 'url'], dtype='object')"
      ]
     },
     "execution_count": 42,
     "metadata": {},
     "output_type": "execute_result"
    }
   ],
   "source": [
    "df.columns"
   ]
  },
  {
   "cell_type": "code",
   "execution_count": 43,
   "metadata": {
    "collapsed": true
   },
   "outputs": [],
   "source": [
    "df.to_pickle('../.tmp/books_dataframe_reduced')"
   ]
  },
  {
   "cell_type": "code",
   "execution_count": null,
   "metadata": {
    "collapsed": true
   },
   "outputs": [],
   "source": []
  }
 ],
 "metadata": {
  "kernelspec": {
   "display_name": "Python 3",
   "language": "python",
   "name": "python3"
  },
  "language_info": {
   "codemirror_mode": {
    "name": "ipython",
    "version": 3
   },
   "file_extension": ".py",
   "mimetype": "text/x-python",
   "name": "python",
   "nbconvert_exporter": "python",
   "pygments_lexer": "ipython3",
   "version": "3.6.3"
  }
 },
 "nbformat": 4,
 "nbformat_minor": 2
}
