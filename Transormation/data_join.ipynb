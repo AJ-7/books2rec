{
 "cells": [
  {
   "cell_type": "code",
   "execution_count": 1,
   "metadata": {
    "collapsed": true
   },
   "outputs": [],
   "source": [
    "import numpy as np\n",
    "import pandas as pd\n",
    "import scipy\n",
    "from scipy.sparse import csr_matrix\n",
    "from sklearn.decomposition import TruncatedSVD\n",
    "from sklearn.utils.extmath import randomized_svd"
   ]
  },
  {
   "cell_type": "code",
   "execution_count": 206,
   "metadata": {
    "collapsed": true
   },
   "outputs": [],
   "source": [
    "# Set this to where you save and load all data\n",
    "data_path = '../../goodbooks-10k/'"
   ]
  },
  {
   "cell_type": "code",
   "execution_count": 53,
   "metadata": {
    "collapsed": true
   },
   "outputs": [],
   "source": [
    "def get_sparse(ratings):\n",
    "    users = list(ratings.user_id.unique())\n",
    "    books = list(ratings.book_id.unique())\n",
    "    data = ratings['rating'].tolist()\n",
    "    row = ratings.user_id.astype('category', categories=users).cat.codes\n",
    "    col = ratings.book_id.astype('category', categories=books).cat.codes\n",
    "    sparse_matrix = csr_matrix((data, (row, col)), shape=(len(users), len(books)), dtype = np.dtype('u1'))\n",
    "    return sparse_matrix"
   ]
  },
  {
   "cell_type": "code",
   "execution_count": 207,
   "metadata": {
    "scrolled": true
   },
   "outputs": [
    {
     "data": {
      "text/plain": [
       "(10000, 1000)"
      ]
     },
     "execution_count": 207,
     "metadata": {},
     "output_type": "execute_result"
    }
   ],
   "source": [
    "# Load in item feature matrix (description, tags, and shelves)\n",
    "filename = data_path + 'feature_matrix_reduced.npy'\n",
    "feature_matrix_reduced = np.load(filename)\n",
    "feature_matrix_reduced.shape"
   ]
  },
  {
   "cell_type": "code",
   "execution_count": 208,
   "metadata": {},
   "outputs": [
    {
     "data": {
      "text/plain": [
       "53424"
      ]
     },
     "execution_count": 208,
     "metadata": {},
     "output_type": "execute_result"
    }
   ],
   "source": [
    "# Read in goodreads data\n",
    "ratings_goodreads = pd.read_csv(data_path + 'ratings.csv')\n",
    "ratings_goodreads['book_id'] = ratings_goodreads['book_id'].astype(int)\n",
    "users = list(ratings_goodreads.user_id.unique())\n",
    "len(users)"
   ]
  },
  {
   "cell_type": "code",
   "execution_count": 7,
   "metadata": {
    "collapsed": true
   },
   "outputs": [],
   "source": [
    "# Load in amazon ratings\n",
    "ratings_amazon = pd.read_csv('../../ratings_amazon.csv')\n",
    "ratings_amazon['book_id'] = ratings_amazon['book_id'].astype(int)"
   ]
  },
  {
   "cell_type": "code",
   "execution_count": 8,
   "metadata": {
    "collapsed": true
   },
   "outputs": [],
   "source": [
    "# Get a set of users that rated 5 or more items\n",
    "user_counts = ratings_amazon['user_id'].value_counts() >= 5\n",
    "to_drop = set()\n",
    "for key,value in user_counts.items():\n",
    "    if not value:\n",
    "        to_drop.add(key)"
   ]
  },
  {
   "cell_type": "code",
   "execution_count": 10,
   "metadata": {},
   "outputs": [
    {
     "data": {
      "text/plain": [
       "53802"
      ]
     },
     "execution_count": 10,
     "metadata": {},
     "output_type": "execute_result"
    }
   ],
   "source": [
    "# drop users from df that don't have 5 or more ratings\n",
    "ratings_amazon_reduced = ratings_amazon[~ratings_amazon['user_id'].isin(to_drop)]\n",
    "users = list(ratings_amazon_reduced.user_id.unique())\n",
    "len(users)"
   ]
  },
  {
   "cell_type": "code",
   "execution_count": 42,
   "metadata": {},
   "outputs": [
    {
     "name": "stdout",
     "output_type": "stream",
     "text": [
      "(5976479, 3)\n",
      "(612249, 3)\n"
     ]
    },
    {
     "data": {
      "text/plain": [
       "(6588728, 3)"
      ]
     },
     "execution_count": 42,
     "metadata": {},
     "output_type": "execute_result"
    }
   ],
   "source": [
    "# combine goodreads ratings with amazon ratings (the 10k books)\n",
    "print(ratings_goodreads.shape)\n",
    "print(ratings_amazon_reduced.shape)\n",
    "df = ratings_goodreads.append(ratings_amazon_reduced)\n",
    "df = df.sort_values(by=['book_id'])\n",
    "df.shape"
   ]
  },
  {
   "cell_type": "code",
   "execution_count": 55,
   "metadata": {},
   "outputs": [],
   "source": [
    "user_item = get_sparse(df)"
   ]
  },
  {
   "cell_type": "code",
   "execution_count": 211,
   "metadata": {
    "collapsed": true
   },
   "outputs": [],
   "source": [
    "# Reduce dimensions of user-item matrix\n",
    "svd = TruncatedSVD(n_components=100, n_iter=7, random_state=42)\n",
    "user_item_reduced = svd.fit(user_item)"
   ]
  },
  {
   "cell_type": "code",
   "execution_count": 212,
   "metadata": {},
   "outputs": [
    {
     "data": {
      "text/plain": [
       "array([ 2711.85778101,  1374.63824031,  1286.21427593,  1050.21715457,\n",
       "         942.50510365])"
      ]
     },
     "execution_count": 212,
     "metadata": {},
     "output_type": "execute_result"
    }
   ],
   "source": [
    "user_item_reduced.singular_values_[0:5]"
   ]
  },
  {
   "cell_type": "code",
   "execution_count": 213,
   "metadata": {
    "scrolled": true
   },
   "outputs": [],
   "source": [
    "# Get the item to concept matrix using the transpose of V from SVD\n",
    "item_to_concept = user_item_reduced.components_.T"
   ]
  },
  {
   "cell_type": "code",
   "execution_count": 169,
   "metadata": {},
   "outputs": [],
   "source": [
    "# Good old fashioned SVD\n",
    "# U, Sigma, VT = randomized_svd(user_item, \n",
    "#                               n_components=100,\n",
    "#                               n_iter=5,\n",
    "#                               random_state=42)"
   ]
  },
  {
   "cell_type": "code",
   "execution_count": null,
   "metadata": {},
   "outputs": [],
   "source": [
    "# Scale Sigma from 0-1\n",
    "# max_value = np.amax(Sigma) \n",
    "# Sigma_scaled = Sigma / max_value\n",
    "# Sigma_scaled[0:10]\n",
    "# Sigma[0:5]"
   ]
  },
  {
   "cell_type": "code",
   "execution_count": 200,
   "metadata": {},
   "outputs": [],
   "source": [
    "# Scale VT by concept strengths\n",
    "# VT_weighted_concept_strength = np.matmul(np.diag(Sigma_scaled), VT)\n",
    "# item_to_concept = VT_weighted_concept_strength.T\n",
    "# item_to_concept = VT.T\n",
    "# item_to_concept.shape"
   ]
  },
  {
   "cell_type": "code",
   "execution_count": 214,
   "metadata": {},
   "outputs": [
    {
     "data": {
      "text/plain": [
       "(10000, 1100)"
      ]
     },
     "execution_count": 214,
     "metadata": {},
     "output_type": "execute_result"
    }
   ],
   "source": [
    "# Horizontally combine book features and book concepts\n",
    "item_matrix = np.hstack((item_to_concept, feature_matrix_reduced))\n",
    "item_matrix.shape"
   ]
  },
  {
   "cell_type": "code",
   "execution_count": 215,
   "metadata": {
    "collapsed": true
   },
   "outputs": [],
   "source": [
    "# Save new combined item to feature and concept matrix\n",
    "filename = data_path + 'item_matrix.npy'\n",
    "np.save(filename, item_matrix)"
   ]
  },
  {
   "cell_type": "code",
   "execution_count": null,
   "metadata": {
    "collapsed": true
   },
   "outputs": [],
   "source": []
  }
 ],
 "metadata": {
  "kernelspec": {
   "display_name": "Python 3",
   "language": "python",
   "name": "python3"
  },
  "language_info": {
   "codemirror_mode": {
    "name": "ipython",
    "version": 3
   },
   "file_extension": ".py",
   "mimetype": "text/x-python",
   "name": "python",
   "nbconvert_exporter": "python",
   "pygments_lexer": "ipython3",
   "version": "3.6.3"
  }
 },
 "nbformat": 4,
 "nbformat_minor": 2
}
